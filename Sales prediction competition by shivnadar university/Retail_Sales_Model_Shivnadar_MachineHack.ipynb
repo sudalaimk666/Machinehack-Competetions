{
 "cells": [
  {
   "cell_type": "code",
   "execution_count": 1,
   "metadata": {
    "ExecuteTime": {
     "end_time": "2021-10-24T11:24:14.297785Z",
     "start_time": "2021-10-24T11:24:11.477071Z"
    },
    "_cell_guid": "b1076dfc-b9ad-4769-8c92-a6c4dae69d19",
    "_uuid": "8f2839f25d086af736a60e9eeb907d3b93b6e0e5",
    "execution": {
     "iopub.execute_input": "2021-07-25T13:52:37.548067Z",
     "iopub.status.busy": "2021-07-25T13:52:37.547656Z",
     "iopub.status.idle": "2021-07-25T13:52:38.095376Z",
     "shell.execute_reply": "2021-07-25T13:52:38.094392Z",
     "shell.execute_reply.started": "2021-07-25T13:52:37.548006Z"
    }
   },
   "outputs": [],
   "source": [
    "import numpy as np\n",
    "import pandas as pd\n",
    "import seaborn as sns\n",
    "import scipy as sp\n",
    "import IPython\n",
    "import sys\n",
    "import matplotlib.pyplot as plt\n",
    "import sklearn\n",
    "from sklearn.preprocessing import PolynomialFeatures\n",
    "from sklearn.preprocessing import StandardScaler\n",
    "from sklearn.preprocessing import LabelEncoder\n",
    "from sklearn.model_selection import cross_validate\n",
    "from sklearn.metrics import mean_squared_error, r2_score\n",
    "from sklearn.model_selection import train_test_split\n",
    "from sklearn.linear_model import LinearRegression\n",
    "from sklearn.linear_model import Ridge, ElasticNet\n",
    "from sklearn.neighbors import KNeighborsRegressor\n",
    "from sklearn.tree import DecisionTreeRegressor\n",
    "from sklearn.ensemble import RandomForestRegressor\n",
    "from sklearn.ensemble import ExtraTreesRegressor\n",
    "from sklearn.ensemble import GradientBoostingRegressor\n",
    "import xgboost\n",
    "from xgboost import XGBRegressor\n",
    "from sklearn.ensemble import AdaBoostRegressor\n",
    "%matplotlib inline\n",
    "plt.rcParams['figure.figsize'] = (10,10)"
   ]
  },
  {
   "cell_type": "code",
   "execution_count": 2,
   "metadata": {
    "ExecuteTime": {
     "end_time": "2021-10-24T11:24:14.313742Z",
     "start_time": "2021-10-24T11:24:14.301774Z"
    }
   },
   "outputs": [],
   "source": [
    "import warnings\n",
    "warnings.filterwarnings(\"ignore\")"
   ]
  },
  {
   "cell_type": "code",
   "execution_count": 3,
   "metadata": {
    "ExecuteTime": {
     "end_time": "2021-10-24T11:24:14.594935Z",
     "start_time": "2021-10-24T11:24:14.316735Z"
    },
    "execution": {
     "iopub.execute_input": "2021-07-25T13:52:38.100141Z",
     "iopub.status.busy": "2021-07-25T13:52:38.099847Z",
     "iopub.status.idle": "2021-07-25T13:52:38.167325Z",
     "shell.execute_reply": "2021-07-25T13:52:38.166431Z",
     "shell.execute_reply.started": "2021-07-25T13:52:38.100114Z"
    }
   },
   "outputs": [],
   "source": [
    "#loading the datasets\n",
    "train = pd.read_csv(\"train_SN_RS.csv\")\n",
    "test = pd.read_csv(\"test_SN_RS.csv\")\n",
    "sample = pd.read_csv(\"submission_SN_RS.csv\")"
   ]
  },
  {
   "cell_type": "code",
   "execution_count": 4,
   "metadata": {
    "ExecuteTime": {
     "end_time": "2021-10-24T11:24:14.610556Z",
     "start_time": "2021-10-24T11:24:14.594935Z"
    },
    "execution": {
     "iopub.execute_input": "2021-07-25T13:52:40.561883Z",
     "iopub.status.busy": "2021-07-25T13:52:40.561497Z",
     "iopub.status.idle": "2021-07-25T13:52:40.566416Z",
     "shell.execute_reply": "2021-07-25T13:52:40.565406Z",
     "shell.execute_reply.started": "2021-07-25T13:52:40.561854Z"
    }
   },
   "outputs": [],
   "source": [
    "#pd.set_option('display.max_columns', None)\n",
    "#pd.set_option('display.max_rows', None)"
   ]
  },
  {
   "cell_type": "code",
   "execution_count": 5,
   "metadata": {
    "ExecuteTime": {
     "end_time": "2021-10-24T11:24:14.657420Z",
     "start_time": "2021-10-24T11:24:14.610556Z"
    },
    "execution": {
     "iopub.execute_input": "2021-07-25T13:52:41.920327Z",
     "iopub.status.busy": "2021-07-25T13:52:41.919964Z",
     "iopub.status.idle": "2021-07-25T13:52:42.028284Z",
     "shell.execute_reply": "2021-07-25T13:52:42.027338Z",
     "shell.execute_reply.started": "2021-07-25T13:52:41.920297Z"
    },
    "scrolled": true
   },
   "outputs": [
    {
     "data": {
      "text/html": [
       "<div>\n",
       "<style scoped>\n",
       "    .dataframe tbody tr th:only-of-type {\n",
       "        vertical-align: middle;\n",
       "    }\n",
       "\n",
       "    .dataframe tbody tr th {\n",
       "        vertical-align: top;\n",
       "    }\n",
       "\n",
       "    .dataframe thead th {\n",
       "        text-align: right;\n",
       "    }\n",
       "</style>\n",
       "<table border=\"1\" class=\"dataframe\">\n",
       "  <thead>\n",
       "    <tr style=\"text-align: right;\">\n",
       "      <th></th>\n",
       "      <th>Item_ID</th>\n",
       "      <th>Item_W</th>\n",
       "      <th>Item_Type</th>\n",
       "      <th>Item_MRP</th>\n",
       "      <th>Outlet_ID</th>\n",
       "      <th>Outlet_Year</th>\n",
       "      <th>Outlet_Size</th>\n",
       "      <th>Outlet_Location_Type</th>\n",
       "      <th>Sales</th>\n",
       "    </tr>\n",
       "  </thead>\n",
       "  <tbody>\n",
       "    <tr>\n",
       "      <th>0</th>\n",
       "      <td>FDU32</td>\n",
       "      <td>21.027499</td>\n",
       "      <td>Baking Goods</td>\n",
       "      <td>197.352319</td>\n",
       "      <td>OUT046</td>\n",
       "      <td>2004</td>\n",
       "      <td>Small</td>\n",
       "      <td>Tier 2</td>\n",
       "      <td>2689.457781</td>\n",
       "    </tr>\n",
       "    <tr>\n",
       "      <th>1</th>\n",
       "      <td>NCT54</td>\n",
       "      <td>21.102371</td>\n",
       "      <td>Meat</td>\n",
       "      <td>148.250214</td>\n",
       "      <td>OUT035</td>\n",
       "      <td>1987</td>\n",
       "      <td>Small</td>\n",
       "      <td>Tier 1</td>\n",
       "      <td>3437.350375</td>\n",
       "    </tr>\n",
       "    <tr>\n",
       "      <th>2</th>\n",
       "      <td>FDW08</td>\n",
       "      <td>20.882263</td>\n",
       "      <td>Hard Drinks</td>\n",
       "      <td>205.465010</td>\n",
       "      <td>OUT035</td>\n",
       "      <td>1999</td>\n",
       "      <td>Small</td>\n",
       "      <td>Tier 3</td>\n",
       "      <td>3129.967268</td>\n",
       "    </tr>\n",
       "    <tr>\n",
       "      <th>3</th>\n",
       "      <td>FDJ22</td>\n",
       "      <td>21.050435</td>\n",
       "      <td>Starchy Foods</td>\n",
       "      <td>253.417583</td>\n",
       "      <td>OUT046</td>\n",
       "      <td>1996</td>\n",
       "      <td>Small</td>\n",
       "      <td>Tier 1</td>\n",
       "      <td>1306.514376</td>\n",
       "    </tr>\n",
       "    <tr>\n",
       "      <th>4</th>\n",
       "      <td>FDF47</td>\n",
       "      <td>21.247876</td>\n",
       "      <td>Baking Goods</td>\n",
       "      <td>240.871039</td>\n",
       "      <td>OUT035</td>\n",
       "      <td>1988</td>\n",
       "      <td>Small</td>\n",
       "      <td>Tier 3</td>\n",
       "      <td>1739.769829</td>\n",
       "    </tr>\n",
       "    <tr>\n",
       "      <th>5</th>\n",
       "      <td>DRK12</td>\n",
       "      <td>20.956395</td>\n",
       "      <td>Baking Goods</td>\n",
       "      <td>130.264868</td>\n",
       "      <td>OUT049</td>\n",
       "      <td>1999</td>\n",
       "      <td>Small</td>\n",
       "      <td>Tier 1</td>\n",
       "      <td>1963.629422</td>\n",
       "    </tr>\n",
       "    <tr>\n",
       "      <th>6</th>\n",
       "      <td>FDA32</td>\n",
       "      <td>21.196562</td>\n",
       "      <td>Breads</td>\n",
       "      <td>239.259785</td>\n",
       "      <td>OUT035</td>\n",
       "      <td>1999</td>\n",
       "      <td>Small</td>\n",
       "      <td>Tier 2</td>\n",
       "      <td>581.887837</td>\n",
       "    </tr>\n",
       "    <tr>\n",
       "      <th>7</th>\n",
       "      <td>FDH24</td>\n",
       "      <td>20.949318</td>\n",
       "      <td>Hard Drinks</td>\n",
       "      <td>167.267122</td>\n",
       "      <td>OUT046</td>\n",
       "      <td>1997</td>\n",
       "      <td>Small</td>\n",
       "      <td>Tier 2</td>\n",
       "      <td>679.055015</td>\n",
       "    </tr>\n",
       "    <tr>\n",
       "      <th>8</th>\n",
       "      <td>FDW03</td>\n",
       "      <td>20.884811</td>\n",
       "      <td>Baking Goods</td>\n",
       "      <td>185.453864</td>\n",
       "      <td>OUT049</td>\n",
       "      <td>1997</td>\n",
       "      <td>Small</td>\n",
       "      <td>Tier 1</td>\n",
       "      <td>1991.320168</td>\n",
       "    </tr>\n",
       "    <tr>\n",
       "      <th>9</th>\n",
       "      <td>FDE11</td>\n",
       "      <td>21.183640</td>\n",
       "      <td>Others</td>\n",
       "      <td>239.191172</td>\n",
       "      <td>OUT018</td>\n",
       "      <td>2009</td>\n",
       "      <td>Small</td>\n",
       "      <td>Tier 1</td>\n",
       "      <td>730.148977</td>\n",
       "    </tr>\n",
       "    <tr>\n",
       "      <th>10</th>\n",
       "      <td>FDQ40</td>\n",
       "      <td>21.034074</td>\n",
       "      <td>Baking Goods</td>\n",
       "      <td>175.311288</td>\n",
       "      <td>OUT049</td>\n",
       "      <td>2009</td>\n",
       "      <td>Small</td>\n",
       "      <td>Tier 1</td>\n",
       "      <td>2396.093257</td>\n",
       "    </tr>\n",
       "    <tr>\n",
       "      <th>11</th>\n",
       "      <td>FDF56</td>\n",
       "      <td>20.965062</td>\n",
       "      <td>Baking Goods</td>\n",
       "      <td>113.604451</td>\n",
       "      <td>OUT049</td>\n",
       "      <td>2004</td>\n",
       "      <td>Small</td>\n",
       "      <td>Tier 2</td>\n",
       "      <td>2138.541883</td>\n",
       "    </tr>\n",
       "    <tr>\n",
       "      <th>12</th>\n",
       "      <td>FDC58</td>\n",
       "      <td>20.909201</td>\n",
       "      <td>Baking Goods</td>\n",
       "      <td>238.156114</td>\n",
       "      <td>OUT035</td>\n",
       "      <td>2004</td>\n",
       "      <td>Small</td>\n",
       "      <td>Tier 2</td>\n",
       "      <td>909.567460</td>\n",
       "    </tr>\n",
       "    <tr>\n",
       "      <th>13</th>\n",
       "      <td>FDG32</td>\n",
       "      <td>21.106734</td>\n",
       "      <td>Baking Goods</td>\n",
       "      <td>129.801533</td>\n",
       "      <td>OUT046</td>\n",
       "      <td>1997</td>\n",
       "      <td>Small</td>\n",
       "      <td>Tier 3</td>\n",
       "      <td>6379.790499</td>\n",
       "    </tr>\n",
       "    <tr>\n",
       "      <th>14</th>\n",
       "      <td>FDS55</td>\n",
       "      <td>21.073150</td>\n",
       "      <td>Baking Goods</td>\n",
       "      <td>153.595623</td>\n",
       "      <td>OUT035</td>\n",
       "      <td>1997</td>\n",
       "      <td>Small</td>\n",
       "      <td>Tier 2</td>\n",
       "      <td>411.510868</td>\n",
       "    </tr>\n",
       "    <tr>\n",
       "      <th>15</th>\n",
       "      <td>FDN46</td>\n",
       "      <td>20.918441</td>\n",
       "      <td>Meat</td>\n",
       "      <td>213.871850</td>\n",
       "      <td>OUT035</td>\n",
       "      <td>1999</td>\n",
       "      <td>Small</td>\n",
       "      <td>Tier 1</td>\n",
       "      <td>1562.112430</td>\n",
       "    </tr>\n",
       "    <tr>\n",
       "      <th>16</th>\n",
       "      <td>NCY17</td>\n",
       "      <td>20.889140</td>\n",
       "      <td>Hard Drinks</td>\n",
       "      <td>183.113632</td>\n",
       "      <td>OUT035</td>\n",
       "      <td>1997</td>\n",
       "      <td>Small</td>\n",
       "      <td>Tier 2</td>\n",
       "      <td>2191.208955</td>\n",
       "    </tr>\n",
       "    <tr>\n",
       "      <th>17</th>\n",
       "      <td>FDP40</td>\n",
       "      <td>20.887657</td>\n",
       "      <td>Baking Goods</td>\n",
       "      <td>115.760555</td>\n",
       "      <td>OUT035</td>\n",
       "      <td>1996</td>\n",
       "      <td>Small</td>\n",
       "      <td>Tier 1</td>\n",
       "      <td>3079.652222</td>\n",
       "    </tr>\n",
       "    <tr>\n",
       "      <th>18</th>\n",
       "      <td>FDS35</td>\n",
       "      <td>20.974738</td>\n",
       "      <td>Breads</td>\n",
       "      <td>189.490588</td>\n",
       "      <td>OUT035</td>\n",
       "      <td>1997</td>\n",
       "      <td>Small</td>\n",
       "      <td>Tier 1</td>\n",
       "      <td>4208.230461</td>\n",
       "    </tr>\n",
       "    <tr>\n",
       "      <th>19</th>\n",
       "      <td>FDY40</td>\n",
       "      <td>21.212975</td>\n",
       "      <td>Seafood</td>\n",
       "      <td>105.026932</td>\n",
       "      <td>OUT013</td>\n",
       "      <td>1996</td>\n",
       "      <td>Small</td>\n",
       "      <td>Tier 2</td>\n",
       "      <td>1036.315430</td>\n",
       "    </tr>\n",
       "  </tbody>\n",
       "</table>\n",
       "</div>"
      ],
      "text/plain": [
       "   Item_ID     Item_W      Item_Type    Item_MRP Outlet_ID  Outlet_Year  \\\n",
       "0    FDU32  21.027499   Baking Goods  197.352319    OUT046         2004   \n",
       "1    NCT54  21.102371           Meat  148.250214    OUT035         1987   \n",
       "2    FDW08  20.882263    Hard Drinks  205.465010    OUT035         1999   \n",
       "3    FDJ22  21.050435  Starchy Foods  253.417583    OUT046         1996   \n",
       "4    FDF47  21.247876   Baking Goods  240.871039    OUT035         1988   \n",
       "5    DRK12  20.956395   Baking Goods  130.264868    OUT049         1999   \n",
       "6    FDA32  21.196562         Breads  239.259785    OUT035         1999   \n",
       "7    FDH24  20.949318    Hard Drinks  167.267122    OUT046         1997   \n",
       "8    FDW03  20.884811   Baking Goods  185.453864    OUT049         1997   \n",
       "9    FDE11  21.183640         Others  239.191172    OUT018         2009   \n",
       "10   FDQ40  21.034074   Baking Goods  175.311288    OUT049         2009   \n",
       "11   FDF56  20.965062   Baking Goods  113.604451    OUT049         2004   \n",
       "12   FDC58  20.909201   Baking Goods  238.156114    OUT035         2004   \n",
       "13   FDG32  21.106734   Baking Goods  129.801533    OUT046         1997   \n",
       "14   FDS55  21.073150   Baking Goods  153.595623    OUT035         1997   \n",
       "15   FDN46  20.918441           Meat  213.871850    OUT035         1999   \n",
       "16   NCY17  20.889140    Hard Drinks  183.113632    OUT035         1997   \n",
       "17   FDP40  20.887657   Baking Goods  115.760555    OUT035         1996   \n",
       "18   FDS35  20.974738         Breads  189.490588    OUT035         1997   \n",
       "19   FDY40  21.212975        Seafood  105.026932    OUT013         1996   \n",
       "\n",
       "   Outlet_Size Outlet_Location_Type        Sales  \n",
       "0        Small               Tier 2  2689.457781  \n",
       "1        Small               Tier 1  3437.350375  \n",
       "2        Small               Tier 3  3129.967268  \n",
       "3        Small               Tier 1  1306.514376  \n",
       "4        Small               Tier 3  1739.769829  \n",
       "5        Small               Tier 1  1963.629422  \n",
       "6        Small               Tier 2   581.887837  \n",
       "7        Small               Tier 2   679.055015  \n",
       "8        Small               Tier 1  1991.320168  \n",
       "9        Small               Tier 1   730.148977  \n",
       "10       Small               Tier 1  2396.093257  \n",
       "11       Small               Tier 2  2138.541883  \n",
       "12       Small               Tier 2   909.567460  \n",
       "13       Small               Tier 3  6379.790499  \n",
       "14       Small               Tier 2   411.510868  \n",
       "15       Small               Tier 1  1562.112430  \n",
       "16       Small               Tier 2  2191.208955  \n",
       "17       Small               Tier 1  3079.652222  \n",
       "18       Small               Tier 1  4208.230461  \n",
       "19       Small               Tier 2  1036.315430  "
      ]
     },
     "execution_count": 5,
     "metadata": {},
     "output_type": "execute_result"
    }
   ],
   "source": [
    "#view on train dataset\n",
    "train.head(20)"
   ]
  },
  {
   "cell_type": "code",
   "execution_count": 6,
   "metadata": {
    "ExecuteTime": {
     "end_time": "2021-10-24T11:24:14.679558Z",
     "start_time": "2021-10-24T11:24:14.657420Z"
    },
    "execution": {
     "iopub.execute_input": "2021-07-25T13:52:43.291846Z",
     "iopub.status.busy": "2021-07-25T13:52:43.291444Z",
     "iopub.status.idle": "2021-07-25T13:52:43.298215Z",
     "shell.execute_reply": "2021-07-25T13:52:43.296950Z",
     "shell.execute_reply.started": "2021-07-25T13:52:43.291810Z"
    }
   },
   "outputs": [
    {
     "data": {
      "text/plain": [
       "(87864, 9)"
      ]
     },
     "execution_count": 6,
     "metadata": {},
     "output_type": "execute_result"
    }
   ],
   "source": [
    "#shape of trainset\n",
    "train.shape"
   ]
  },
  {
   "cell_type": "code",
   "execution_count": 7,
   "metadata": {
    "ExecuteTime": {
     "end_time": "2021-10-24T11:24:14.741689Z",
     "start_time": "2021-10-24T11:24:14.679558Z"
    },
    "scrolled": true
   },
   "outputs": [
    {
     "data": {
      "text/plain": [
       "Item_ID                 0\n",
       "Item_W                  0\n",
       "Item_Type               0\n",
       "Item_MRP                0\n",
       "Outlet_ID               0\n",
       "Outlet_Year             0\n",
       "Outlet_Size             0\n",
       "Outlet_Location_Type    0\n",
       "Sales                   0\n",
       "dtype: int64"
      ]
     },
     "execution_count": 7,
     "metadata": {},
     "output_type": "execute_result"
    }
   ],
   "source": [
    "train.isna().sum()"
   ]
  },
  {
   "cell_type": "code",
   "execution_count": 8,
   "metadata": {
    "ExecuteTime": {
     "end_time": "2021-10-24T11:24:14.779770Z",
     "start_time": "2021-10-24T11:24:14.744682Z"
    },
    "execution": {
     "iopub.execute_input": "2021-07-25T13:52:44.412755Z",
     "iopub.status.busy": "2021-07-25T13:52:44.412340Z",
     "iopub.status.idle": "2021-07-25T13:52:44.520443Z",
     "shell.execute_reply": "2021-07-25T13:52:44.519363Z",
     "shell.execute_reply.started": "2021-07-25T13:52:44.412723Z"
    },
    "scrolled": true
   },
   "outputs": [
    {
     "data": {
      "text/html": [
       "<div>\n",
       "<style scoped>\n",
       "    .dataframe tbody tr th:only-of-type {\n",
       "        vertical-align: middle;\n",
       "    }\n",
       "\n",
       "    .dataframe tbody tr th {\n",
       "        vertical-align: top;\n",
       "    }\n",
       "\n",
       "    .dataframe thead th {\n",
       "        text-align: right;\n",
       "    }\n",
       "</style>\n",
       "<table border=\"1\" class=\"dataframe\">\n",
       "  <thead>\n",
       "    <tr style=\"text-align: right;\">\n",
       "      <th></th>\n",
       "      <th>Item_ID</th>\n",
       "      <th>Item_W</th>\n",
       "      <th>Item_Type</th>\n",
       "      <th>Item_MRP</th>\n",
       "      <th>Outlet_ID</th>\n",
       "      <th>Outlet_Year</th>\n",
       "      <th>Outlet_Size</th>\n",
       "      <th>Outlet_Location_Type</th>\n",
       "    </tr>\n",
       "  </thead>\n",
       "  <tbody>\n",
       "    <tr>\n",
       "      <th>0</th>\n",
       "      <td>DRM23</td>\n",
       "      <td>10.156725</td>\n",
       "      <td>Snack Foods</td>\n",
       "      <td>119.319482</td>\n",
       "      <td>OUT013</td>\n",
       "      <td>1999</td>\n",
       "      <td>High</td>\n",
       "      <td>Tier 3</td>\n",
       "    </tr>\n",
       "    <tr>\n",
       "      <th>1</th>\n",
       "      <td>FDG47</td>\n",
       "      <td>10.434425</td>\n",
       "      <td>Household</td>\n",
       "      <td>263.600449</td>\n",
       "      <td>OUT018</td>\n",
       "      <td>1987</td>\n",
       "      <td>High</td>\n",
       "      <td>Tier 3</td>\n",
       "    </tr>\n",
       "    <tr>\n",
       "      <th>2</th>\n",
       "      <td>FDN21</td>\n",
       "      <td>11.953589</td>\n",
       "      <td>Health and Hygiene</td>\n",
       "      <td>246.286990</td>\n",
       "      <td>OUT018</td>\n",
       "      <td>1997</td>\n",
       "      <td>High</td>\n",
       "      <td>Tier 1</td>\n",
       "    </tr>\n",
       "    <tr>\n",
       "      <th>3</th>\n",
       "      <td>FDZ23</td>\n",
       "      <td>14.948546</td>\n",
       "      <td>Dairy</td>\n",
       "      <td>136.200508</td>\n",
       "      <td>OUT046</td>\n",
       "      <td>2004</td>\n",
       "      <td>Medium</td>\n",
       "      <td>Tier 2</td>\n",
       "    </tr>\n",
       "    <tr>\n",
       "      <th>4</th>\n",
       "      <td>FDC16</td>\n",
       "      <td>11.080042</td>\n",
       "      <td>Canned</td>\n",
       "      <td>173.145664</td>\n",
       "      <td>OUT018</td>\n",
       "      <td>2009</td>\n",
       "      <td>Medium</td>\n",
       "      <td>Tier 3</td>\n",
       "    </tr>\n",
       "    <tr>\n",
       "      <th>5</th>\n",
       "      <td>NCE07</td>\n",
       "      <td>17.926047</td>\n",
       "      <td>Snack Foods</td>\n",
       "      <td>170.715640</td>\n",
       "      <td>OUT035</td>\n",
       "      <td>1999</td>\n",
       "      <td>High</td>\n",
       "      <td>Tier 1</td>\n",
       "    </tr>\n",
       "    <tr>\n",
       "      <th>6</th>\n",
       "      <td>FDH27</td>\n",
       "      <td>17.015887</td>\n",
       "      <td>Canned</td>\n",
       "      <td>129.429127</td>\n",
       "      <td>OUT013</td>\n",
       "      <td>1987</td>\n",
       "      <td>Medium</td>\n",
       "      <td>Tier 1</td>\n",
       "    </tr>\n",
       "    <tr>\n",
       "      <th>7</th>\n",
       "      <td>FDL13</td>\n",
       "      <td>17.667898</td>\n",
       "      <td>Frozen Foods</td>\n",
       "      <td>117.019439</td>\n",
       "      <td>OUT046</td>\n",
       "      <td>1996</td>\n",
       "      <td>Medium</td>\n",
       "      <td>Tier 3</td>\n",
       "    </tr>\n",
       "    <tr>\n",
       "      <th>8</th>\n",
       "      <td>NCX30</td>\n",
       "      <td>13.427877</td>\n",
       "      <td>Dairy</td>\n",
       "      <td>237.580902</td>\n",
       "      <td>OUT049</td>\n",
       "      <td>1997</td>\n",
       "      <td>Medium</td>\n",
       "      <td>Tier 2</td>\n",
       "    </tr>\n",
       "    <tr>\n",
       "      <th>9</th>\n",
       "      <td>FDR35</td>\n",
       "      <td>12.461133</td>\n",
       "      <td>Health and Hygiene</td>\n",
       "      <td>138.913990</td>\n",
       "      <td>OUT013</td>\n",
       "      <td>2009</td>\n",
       "      <td>High</td>\n",
       "      <td>Tier 3</td>\n",
       "    </tr>\n",
       "    <tr>\n",
       "      <th>10</th>\n",
       "      <td>FDZ49</td>\n",
       "      <td>10.579700</td>\n",
       "      <td>Household</td>\n",
       "      <td>212.634541</td>\n",
       "      <td>OUT035</td>\n",
       "      <td>1997</td>\n",
       "      <td>Medium</td>\n",
       "      <td>Tier 1</td>\n",
       "    </tr>\n",
       "    <tr>\n",
       "      <th>11</th>\n",
       "      <td>NCO02</td>\n",
       "      <td>16.528603</td>\n",
       "      <td>Frozen Foods</td>\n",
       "      <td>153.327758</td>\n",
       "      <td>OUT018</td>\n",
       "      <td>2004</td>\n",
       "      <td>Medium</td>\n",
       "      <td>Tier 3</td>\n",
       "    </tr>\n",
       "    <tr>\n",
       "      <th>12</th>\n",
       "      <td>FDX09</td>\n",
       "      <td>18.045917</td>\n",
       "      <td>Snack Foods</td>\n",
       "      <td>190.011444</td>\n",
       "      <td>OUT046</td>\n",
       "      <td>2008</td>\n",
       "      <td>Medium</td>\n",
       "      <td>Tier 3</td>\n",
       "    </tr>\n",
       "    <tr>\n",
       "      <th>13</th>\n",
       "      <td>FDA02</td>\n",
       "      <td>13.247171</td>\n",
       "      <td>Health and Hygiene</td>\n",
       "      <td>164.968292</td>\n",
       "      <td>OUT018</td>\n",
       "      <td>1999</td>\n",
       "      <td>Medium</td>\n",
       "      <td>Tier 1</td>\n",
       "    </tr>\n",
       "    <tr>\n",
       "      <th>14</th>\n",
       "      <td>FDD14</td>\n",
       "      <td>12.029755</td>\n",
       "      <td>Snack Foods</td>\n",
       "      <td>141.835046</td>\n",
       "      <td>OUT013</td>\n",
       "      <td>2004</td>\n",
       "      <td>Medium</td>\n",
       "      <td>Tier 3</td>\n",
       "    </tr>\n",
       "    <tr>\n",
       "      <th>15</th>\n",
       "      <td>FDR35</td>\n",
       "      <td>18.633672</td>\n",
       "      <td>Canned</td>\n",
       "      <td>122.931010</td>\n",
       "      <td>OUT018</td>\n",
       "      <td>2008</td>\n",
       "      <td>Medium</td>\n",
       "      <td>Tier 3</td>\n",
       "    </tr>\n",
       "    <tr>\n",
       "      <th>16</th>\n",
       "      <td>FDI08</td>\n",
       "      <td>9.114275</td>\n",
       "      <td>Snack Foods</td>\n",
       "      <td>165.190737</td>\n",
       "      <td>OUT018</td>\n",
       "      <td>2009</td>\n",
       "      <td>Medium</td>\n",
       "      <td>Tier 3</td>\n",
       "    </tr>\n",
       "    <tr>\n",
       "      <th>17</th>\n",
       "      <td>DRN47</td>\n",
       "      <td>16.978758</td>\n",
       "      <td>Frozen Foods</td>\n",
       "      <td>220.037072</td>\n",
       "      <td>OUT018</td>\n",
       "      <td>2009</td>\n",
       "      <td>Medium</td>\n",
       "      <td>Tier 3</td>\n",
       "    </tr>\n",
       "    <tr>\n",
       "      <th>18</th>\n",
       "      <td>FDR21</td>\n",
       "      <td>16.686719</td>\n",
       "      <td>Household</td>\n",
       "      <td>107.675952</td>\n",
       "      <td>OUT046</td>\n",
       "      <td>1999</td>\n",
       "      <td>High</td>\n",
       "      <td>Tier 3</td>\n",
       "    </tr>\n",
       "    <tr>\n",
       "      <th>19</th>\n",
       "      <td>DRL11</td>\n",
       "      <td>9.874178</td>\n",
       "      <td>Household</td>\n",
       "      <td>126.258207</td>\n",
       "      <td>OUT035</td>\n",
       "      <td>1997</td>\n",
       "      <td>Medium</td>\n",
       "      <td>Tier 1</td>\n",
       "    </tr>\n",
       "  </tbody>\n",
       "</table>\n",
       "</div>"
      ],
      "text/plain": [
       "   Item_ID     Item_W           Item_Type    Item_MRP Outlet_ID  Outlet_Year  \\\n",
       "0    DRM23  10.156725         Snack Foods  119.319482    OUT013         1999   \n",
       "1    FDG47  10.434425           Household  263.600449    OUT018         1987   \n",
       "2    FDN21  11.953589  Health and Hygiene  246.286990    OUT018         1997   \n",
       "3    FDZ23  14.948546               Dairy  136.200508    OUT046         2004   \n",
       "4    FDC16  11.080042              Canned  173.145664    OUT018         2009   \n",
       "5    NCE07  17.926047         Snack Foods  170.715640    OUT035         1999   \n",
       "6    FDH27  17.015887              Canned  129.429127    OUT013         1987   \n",
       "7    FDL13  17.667898        Frozen Foods  117.019439    OUT046         1996   \n",
       "8    NCX30  13.427877               Dairy  237.580902    OUT049         1997   \n",
       "9    FDR35  12.461133  Health and Hygiene  138.913990    OUT013         2009   \n",
       "10   FDZ49  10.579700           Household  212.634541    OUT035         1997   \n",
       "11   NCO02  16.528603        Frozen Foods  153.327758    OUT018         2004   \n",
       "12   FDX09  18.045917         Snack Foods  190.011444    OUT046         2008   \n",
       "13   FDA02  13.247171  Health and Hygiene  164.968292    OUT018         1999   \n",
       "14   FDD14  12.029755         Snack Foods  141.835046    OUT013         2004   \n",
       "15   FDR35  18.633672              Canned  122.931010    OUT018         2008   \n",
       "16   FDI08   9.114275         Snack Foods  165.190737    OUT018         2009   \n",
       "17   DRN47  16.978758        Frozen Foods  220.037072    OUT018         2009   \n",
       "18   FDR21  16.686719           Household  107.675952    OUT046         1999   \n",
       "19   DRL11   9.874178           Household  126.258207    OUT035         1997   \n",
       "\n",
       "   Outlet_Size Outlet_Location_Type  \n",
       "0         High               Tier 3  \n",
       "1         High               Tier 3  \n",
       "2         High               Tier 1  \n",
       "3       Medium               Tier 2  \n",
       "4       Medium               Tier 3  \n",
       "5         High               Tier 1  \n",
       "6       Medium               Tier 1  \n",
       "7       Medium               Tier 3  \n",
       "8       Medium               Tier 2  \n",
       "9         High               Tier 3  \n",
       "10      Medium               Tier 1  \n",
       "11      Medium               Tier 3  \n",
       "12      Medium               Tier 3  \n",
       "13      Medium               Tier 1  \n",
       "14      Medium               Tier 3  \n",
       "15      Medium               Tier 3  \n",
       "16      Medium               Tier 3  \n",
       "17      Medium               Tier 3  \n",
       "18        High               Tier 3  \n",
       "19      Medium               Tier 1  "
      ]
     },
     "execution_count": 8,
     "metadata": {},
     "output_type": "execute_result"
    }
   ],
   "source": [
    "#view on test dataset\n",
    "test.head(20)"
   ]
  },
  {
   "cell_type": "code",
   "execution_count": 9,
   "metadata": {
    "ExecuteTime": {
     "end_time": "2021-10-24T11:24:14.795392Z",
     "start_time": "2021-10-24T11:24:14.779770Z"
    },
    "execution": {
     "iopub.execute_input": "2021-07-25T13:52:45.615943Z",
     "iopub.status.busy": "2021-07-25T13:52:45.615435Z",
     "iopub.status.idle": "2021-07-25T13:52:45.625204Z",
     "shell.execute_reply": "2021-07-25T13:52:45.624031Z",
     "shell.execute_reply.started": "2021-07-25T13:52:45.615898Z"
    }
   },
   "outputs": [
    {
     "data": {
      "text/plain": [
       "(37656, 8)"
      ]
     },
     "execution_count": 9,
     "metadata": {},
     "output_type": "execute_result"
    }
   ],
   "source": [
    "#shape of testset\n",
    "test.shape"
   ]
  },
  {
   "cell_type": "code",
   "execution_count": 10,
   "metadata": {
    "ExecuteTime": {
     "end_time": "2021-10-24T11:24:14.826636Z",
     "start_time": "2021-10-24T11:24:14.795392Z"
    },
    "execution": {
     "iopub.execute_input": "2021-07-25T13:52:46.627735Z",
     "iopub.status.busy": "2021-07-25T13:52:46.627350Z",
     "iopub.status.idle": "2021-07-25T13:52:46.644261Z",
     "shell.execute_reply": "2021-07-25T13:52:46.643329Z",
     "shell.execute_reply.started": "2021-07-25T13:52:46.627702Z"
    }
   },
   "outputs": [
    {
     "data": {
      "text/html": [
       "<div>\n",
       "<style scoped>\n",
       "    .dataframe tbody tr th:only-of-type {\n",
       "        vertical-align: middle;\n",
       "    }\n",
       "\n",
       "    .dataframe tbody tr th {\n",
       "        vertical-align: top;\n",
       "    }\n",
       "\n",
       "    .dataframe thead th {\n",
       "        text-align: right;\n",
       "    }\n",
       "</style>\n",
       "<table border=\"1\" class=\"dataframe\">\n",
       "  <thead>\n",
       "    <tr style=\"text-align: right;\">\n",
       "      <th></th>\n",
       "      <th>Sales</th>\n",
       "    </tr>\n",
       "  </thead>\n",
       "  <tbody>\n",
       "    <tr>\n",
       "      <th>0</th>\n",
       "      <td>0.0</td>\n",
       "    </tr>\n",
       "    <tr>\n",
       "      <th>1</th>\n",
       "      <td>0.0</td>\n",
       "    </tr>\n",
       "    <tr>\n",
       "      <th>2</th>\n",
       "      <td>0.0</td>\n",
       "    </tr>\n",
       "    <tr>\n",
       "      <th>3</th>\n",
       "      <td>0.0</td>\n",
       "    </tr>\n",
       "    <tr>\n",
       "      <th>4</th>\n",
       "      <td>0.0</td>\n",
       "    </tr>\n",
       "    <tr>\n",
       "      <th>5</th>\n",
       "      <td>0.0</td>\n",
       "    </tr>\n",
       "    <tr>\n",
       "      <th>6</th>\n",
       "      <td>0.0</td>\n",
       "    </tr>\n",
       "    <tr>\n",
       "      <th>7</th>\n",
       "      <td>0.0</td>\n",
       "    </tr>\n",
       "    <tr>\n",
       "      <th>8</th>\n",
       "      <td>0.0</td>\n",
       "    </tr>\n",
       "    <tr>\n",
       "      <th>9</th>\n",
       "      <td>0.0</td>\n",
       "    </tr>\n",
       "    <tr>\n",
       "      <th>10</th>\n",
       "      <td>0.0</td>\n",
       "    </tr>\n",
       "    <tr>\n",
       "      <th>11</th>\n",
       "      <td>0.0</td>\n",
       "    </tr>\n",
       "    <tr>\n",
       "      <th>12</th>\n",
       "      <td>0.0</td>\n",
       "    </tr>\n",
       "    <tr>\n",
       "      <th>13</th>\n",
       "      <td>0.0</td>\n",
       "    </tr>\n",
       "    <tr>\n",
       "      <th>14</th>\n",
       "      <td>0.0</td>\n",
       "    </tr>\n",
       "    <tr>\n",
       "      <th>15</th>\n",
       "      <td>0.0</td>\n",
       "    </tr>\n",
       "    <tr>\n",
       "      <th>16</th>\n",
       "      <td>0.0</td>\n",
       "    </tr>\n",
       "    <tr>\n",
       "      <th>17</th>\n",
       "      <td>0.0</td>\n",
       "    </tr>\n",
       "    <tr>\n",
       "      <th>18</th>\n",
       "      <td>0.0</td>\n",
       "    </tr>\n",
       "    <tr>\n",
       "      <th>19</th>\n",
       "      <td>0.0</td>\n",
       "    </tr>\n",
       "  </tbody>\n",
       "</table>\n",
       "</div>"
      ],
      "text/plain": [
       "    Sales\n",
       "0     0.0\n",
       "1     0.0\n",
       "2     0.0\n",
       "3     0.0\n",
       "4     0.0\n",
       "5     0.0\n",
       "6     0.0\n",
       "7     0.0\n",
       "8     0.0\n",
       "9     0.0\n",
       "10    0.0\n",
       "11    0.0\n",
       "12    0.0\n",
       "13    0.0\n",
       "14    0.0\n",
       "15    0.0\n",
       "16    0.0\n",
       "17    0.0\n",
       "18    0.0\n",
       "19    0.0"
      ]
     },
     "execution_count": 10,
     "metadata": {},
     "output_type": "execute_result"
    }
   ],
   "source": [
    "sample.head(20)"
   ]
  },
  {
   "cell_type": "code",
   "execution_count": 11,
   "metadata": {
    "ExecuteTime": {
     "end_time": "2021-10-24T11:24:14.842256Z",
     "start_time": "2021-10-24T11:24:14.826636Z"
    }
   },
   "outputs": [
    {
     "data": {
      "text/plain": [
       "(37656, 1)"
      ]
     },
     "execution_count": 11,
     "metadata": {},
     "output_type": "execute_result"
    }
   ],
   "source": [
    "sample.shape"
   ]
  },
  {
   "cell_type": "code",
   "execution_count": null,
   "metadata": {},
   "outputs": [],
   "source": []
  },
  {
   "cell_type": "code",
   "execution_count": 12,
   "metadata": {
    "ExecuteTime": {
     "end_time": "2021-10-24T11:24:14.914794Z",
     "start_time": "2021-10-24T11:24:14.842256Z"
    },
    "execution": {
     "iopub.execute_input": "2021-07-25T13:52:49.808825Z",
     "iopub.status.busy": "2021-07-25T13:52:49.808441Z",
     "iopub.status.idle": "2021-07-25T13:52:49.840695Z",
     "shell.execute_reply": "2021-07-25T13:52:49.839800Z",
     "shell.execute_reply.started": "2021-07-25T13:52:49.808795Z"
    },
    "scrolled": false
   },
   "outputs": [
    {
     "name": "stdout",
     "output_type": "stream",
     "text": [
      "<class 'pandas.core.frame.DataFrame'>\n",
      "RangeIndex: 87864 entries, 0 to 87863\n",
      "Data columns (total 9 columns):\n",
      " #   Column                Non-Null Count  Dtype  \n",
      "---  ------                --------------  -----  \n",
      " 0   Item_ID               87864 non-null  object \n",
      " 1   Item_W                87864 non-null  float64\n",
      " 2   Item_Type             87864 non-null  object \n",
      " 3   Item_MRP              87864 non-null  float64\n",
      " 4   Outlet_ID             87864 non-null  object \n",
      " 5   Outlet_Year           87864 non-null  int64  \n",
      " 6   Outlet_Size           87864 non-null  object \n",
      " 7   Outlet_Location_Type  87864 non-null  object \n",
      " 8   Sales                 87864 non-null  float64\n",
      "dtypes: float64(3), int64(1), object(5)\n",
      "memory usage: 6.0+ MB\n"
     ]
    }
   ],
   "source": [
    "#information about the train dataset\n",
    "train.info()"
   ]
  },
  {
   "cell_type": "code",
   "execution_count": 13,
   "metadata": {
    "ExecuteTime": {
     "end_time": "2021-10-24T11:24:15.096195Z",
     "start_time": "2021-10-24T11:24:14.914794Z"
    },
    "execution": {
     "iopub.execute_input": "2021-07-25T13:52:50.647016Z",
     "iopub.status.busy": "2021-07-25T13:52:50.646646Z",
     "iopub.status.idle": "2021-07-25T13:52:50.905839Z",
     "shell.execute_reply": "2021-07-25T13:52:50.904639Z",
     "shell.execute_reply.started": "2021-07-25T13:52:50.646988Z"
    },
    "scrolled": true
   },
   "outputs": [
    {
     "data": {
      "text/html": [
       "<div>\n",
       "<style scoped>\n",
       "    .dataframe tbody tr th:only-of-type {\n",
       "        vertical-align: middle;\n",
       "    }\n",
       "\n",
       "    .dataframe tbody tr th {\n",
       "        vertical-align: top;\n",
       "    }\n",
       "\n",
       "    .dataframe thead th {\n",
       "        text-align: right;\n",
       "    }\n",
       "</style>\n",
       "<table border=\"1\" class=\"dataframe\">\n",
       "  <thead>\n",
       "    <tr style=\"text-align: right;\">\n",
       "      <th></th>\n",
       "      <th>Item_ID</th>\n",
       "      <th>Item_W</th>\n",
       "      <th>Item_Type</th>\n",
       "      <th>Item_MRP</th>\n",
       "      <th>Outlet_ID</th>\n",
       "      <th>Outlet_Year</th>\n",
       "      <th>Outlet_Size</th>\n",
       "      <th>Outlet_Location_Type</th>\n",
       "      <th>Sales</th>\n",
       "    </tr>\n",
       "  </thead>\n",
       "  <tbody>\n",
       "    <tr>\n",
       "      <th>count</th>\n",
       "      <td>87864</td>\n",
       "      <td>87864.000000</td>\n",
       "      <td>87864</td>\n",
       "      <td>87864.000000</td>\n",
       "      <td>87864</td>\n",
       "      <td>87864.00000</td>\n",
       "      <td>87864</td>\n",
       "      <td>87864</td>\n",
       "      <td>87864.000000</td>\n",
       "    </tr>\n",
       "    <tr>\n",
       "      <th>unique</th>\n",
       "      <td>895</td>\n",
       "      <td>NaN</td>\n",
       "      <td>16</td>\n",
       "      <td>NaN</td>\n",
       "      <td>5</td>\n",
       "      <td>NaN</td>\n",
       "      <td>3</td>\n",
       "      <td>3</td>\n",
       "      <td>NaN</td>\n",
       "    </tr>\n",
       "    <tr>\n",
       "      <th>top</th>\n",
       "      <td>FDE11</td>\n",
       "      <td>NaN</td>\n",
       "      <td>Baking Goods</td>\n",
       "      <td>NaN</td>\n",
       "      <td>OUT035</td>\n",
       "      <td>NaN</td>\n",
       "      <td>Small</td>\n",
       "      <td>Tier 1</td>\n",
       "      <td>NaN</td>\n",
       "    </tr>\n",
       "    <tr>\n",
       "      <th>freq</th>\n",
       "      <td>419</td>\n",
       "      <td>NaN</td>\n",
       "      <td>14666</td>\n",
       "      <td>NaN</td>\n",
       "      <td>24071</td>\n",
       "      <td>NaN</td>\n",
       "      <td>48614</td>\n",
       "      <td>33567</td>\n",
       "      <td>NaN</td>\n",
       "    </tr>\n",
       "    <tr>\n",
       "      <th>mean</th>\n",
       "      <td>NaN</td>\n",
       "      <td>15.591469</td>\n",
       "      <td>NaN</td>\n",
       "      <td>151.242943</td>\n",
       "      <td>NaN</td>\n",
       "      <td>1999.87063</td>\n",
       "      <td>NaN</td>\n",
       "      <td>NaN</td>\n",
       "      <td>1911.842120</td>\n",
       "    </tr>\n",
       "    <tr>\n",
       "      <th>std</th>\n",
       "      <td>NaN</td>\n",
       "      <td>4.364429</td>\n",
       "      <td>NaN</td>\n",
       "      <td>59.536366</td>\n",
       "      <td>NaN</td>\n",
       "      <td>6.63429</td>\n",
       "      <td>NaN</td>\n",
       "      <td>NaN</td>\n",
       "      <td>1291.386004</td>\n",
       "    </tr>\n",
       "    <tr>\n",
       "      <th>min</th>\n",
       "      <td>NaN</td>\n",
       "      <td>7.992700</td>\n",
       "      <td>NaN</td>\n",
       "      <td>32.910015</td>\n",
       "      <td>NaN</td>\n",
       "      <td>1987.00000</td>\n",
       "      <td>NaN</td>\n",
       "      <td>NaN</td>\n",
       "      <td>-1229.360345</td>\n",
       "    </tr>\n",
       "    <tr>\n",
       "      <th>25%</th>\n",
       "      <td>NaN</td>\n",
       "      <td>10.968658</td>\n",
       "      <td>NaN</td>\n",
       "      <td>112.423337</td>\n",
       "      <td>NaN</td>\n",
       "      <td>1997.00000</td>\n",
       "      <td>NaN</td>\n",
       "      <td>NaN</td>\n",
       "      <td>959.249675</td>\n",
       "    </tr>\n",
       "    <tr>\n",
       "      <th>50%</th>\n",
       "      <td>NaN</td>\n",
       "      <td>15.831170</td>\n",
       "      <td>NaN</td>\n",
       "      <td>145.581473</td>\n",
       "      <td>NaN</td>\n",
       "      <td>1999.00000</td>\n",
       "      <td>NaN</td>\n",
       "      <td>NaN</td>\n",
       "      <td>1606.307877</td>\n",
       "    </tr>\n",
       "    <tr>\n",
       "      <th>75%</th>\n",
       "      <td>NaN</td>\n",
       "      <td>19.969936</td>\n",
       "      <td>NaN</td>\n",
       "      <td>197.110367</td>\n",
       "      <td>NaN</td>\n",
       "      <td>2004.00000</td>\n",
       "      <td>NaN</td>\n",
       "      <td>NaN</td>\n",
       "      <td>2608.057736</td>\n",
       "    </tr>\n",
       "    <tr>\n",
       "      <th>max</th>\n",
       "      <td>NaN</td>\n",
       "      <td>21.250000</td>\n",
       "      <td>NaN</td>\n",
       "      <td>265.214271</td>\n",
       "      <td>NaN</td>\n",
       "      <td>2009.00000</td>\n",
       "      <td>NaN</td>\n",
       "      <td>NaN</td>\n",
       "      <td>10309.283310</td>\n",
       "    </tr>\n",
       "  </tbody>\n",
       "</table>\n",
       "</div>"
      ],
      "text/plain": [
       "       Item_ID        Item_W     Item_Type      Item_MRP Outlet_ID  \\\n",
       "count    87864  87864.000000         87864  87864.000000     87864   \n",
       "unique     895           NaN            16           NaN         5   \n",
       "top      FDE11           NaN  Baking Goods           NaN    OUT035   \n",
       "freq       419           NaN         14666           NaN     24071   \n",
       "mean       NaN     15.591469           NaN    151.242943       NaN   \n",
       "std        NaN      4.364429           NaN     59.536366       NaN   \n",
       "min        NaN      7.992700           NaN     32.910015       NaN   \n",
       "25%        NaN     10.968658           NaN    112.423337       NaN   \n",
       "50%        NaN     15.831170           NaN    145.581473       NaN   \n",
       "75%        NaN     19.969936           NaN    197.110367       NaN   \n",
       "max        NaN     21.250000           NaN    265.214271       NaN   \n",
       "\n",
       "        Outlet_Year Outlet_Size Outlet_Location_Type         Sales  \n",
       "count   87864.00000       87864                87864  87864.000000  \n",
       "unique          NaN           3                    3           NaN  \n",
       "top             NaN       Small               Tier 1           NaN  \n",
       "freq            NaN       48614                33567           NaN  \n",
       "mean     1999.87063         NaN                  NaN   1911.842120  \n",
       "std         6.63429         NaN                  NaN   1291.386004  \n",
       "min      1987.00000         NaN                  NaN  -1229.360345  \n",
       "25%      1997.00000         NaN                  NaN    959.249675  \n",
       "50%      1999.00000         NaN                  NaN   1606.307877  \n",
       "75%      2004.00000         NaN                  NaN   2608.057736  \n",
       "max      2009.00000         NaN                  NaN  10309.283310  "
      ]
     },
     "execution_count": 13,
     "metadata": {},
     "output_type": "execute_result"
    }
   ],
   "source": [
    "#describing the trainset\n",
    "train.describe(include = 'all')"
   ]
  },
  {
   "cell_type": "code",
   "execution_count": 14,
   "metadata": {
    "ExecuteTime": {
     "end_time": "2021-10-24T11:24:15.111880Z",
     "start_time": "2021-10-24T11:24:15.099912Z"
    }
   },
   "outputs": [],
   "source": [
    "train['source']='train'\n",
    "test['source']='test'"
   ]
  },
  {
   "cell_type": "code",
   "execution_count": 15,
   "metadata": {
    "ExecuteTime": {
     "end_time": "2021-10-24T11:24:15.182819Z",
     "start_time": "2021-10-24T11:24:15.115870Z"
    },
    "execution": {
     "iopub.execute_input": "2021-07-25T13:52:53.026098Z",
     "iopub.status.busy": "2021-07-25T13:52:53.025672Z",
     "iopub.status.idle": "2021-07-25T13:52:53.116823Z",
     "shell.execute_reply": "2021-07-25T13:52:53.115800Z",
     "shell.execute_reply.started": "2021-07-25T13:52:53.026060Z"
    }
   },
   "outputs": [
    {
     "data": {
      "text/html": [
       "<div>\n",
       "<style scoped>\n",
       "    .dataframe tbody tr th:only-of-type {\n",
       "        vertical-align: middle;\n",
       "    }\n",
       "\n",
       "    .dataframe tbody tr th {\n",
       "        vertical-align: top;\n",
       "    }\n",
       "\n",
       "    .dataframe thead th {\n",
       "        text-align: right;\n",
       "    }\n",
       "</style>\n",
       "<table border=\"1\" class=\"dataframe\">\n",
       "  <thead>\n",
       "    <tr style=\"text-align: right;\">\n",
       "      <th></th>\n",
       "      <th>Item_ID</th>\n",
       "      <th>Item_W</th>\n",
       "      <th>Item_Type</th>\n",
       "      <th>Item_MRP</th>\n",
       "      <th>Outlet_ID</th>\n",
       "      <th>Outlet_Year</th>\n",
       "      <th>Outlet_Size</th>\n",
       "      <th>Outlet_Location_Type</th>\n",
       "      <th>Sales</th>\n",
       "      <th>source</th>\n",
       "    </tr>\n",
       "  </thead>\n",
       "  <tbody>\n",
       "    <tr>\n",
       "      <th>0</th>\n",
       "      <td>FDU32</td>\n",
       "      <td>21.027499</td>\n",
       "      <td>Baking Goods</td>\n",
       "      <td>197.352319</td>\n",
       "      <td>OUT046</td>\n",
       "      <td>2004</td>\n",
       "      <td>Small</td>\n",
       "      <td>Tier 2</td>\n",
       "      <td>2689.457781</td>\n",
       "      <td>train</td>\n",
       "    </tr>\n",
       "    <tr>\n",
       "      <th>1</th>\n",
       "      <td>NCT54</td>\n",
       "      <td>21.102371</td>\n",
       "      <td>Meat</td>\n",
       "      <td>148.250214</td>\n",
       "      <td>OUT035</td>\n",
       "      <td>1987</td>\n",
       "      <td>Small</td>\n",
       "      <td>Tier 1</td>\n",
       "      <td>3437.350375</td>\n",
       "      <td>train</td>\n",
       "    </tr>\n",
       "    <tr>\n",
       "      <th>2</th>\n",
       "      <td>FDW08</td>\n",
       "      <td>20.882263</td>\n",
       "      <td>Hard Drinks</td>\n",
       "      <td>205.465010</td>\n",
       "      <td>OUT035</td>\n",
       "      <td>1999</td>\n",
       "      <td>Small</td>\n",
       "      <td>Tier 3</td>\n",
       "      <td>3129.967268</td>\n",
       "      <td>train</td>\n",
       "    </tr>\n",
       "    <tr>\n",
       "      <th>3</th>\n",
       "      <td>FDJ22</td>\n",
       "      <td>21.050435</td>\n",
       "      <td>Starchy Foods</td>\n",
       "      <td>253.417583</td>\n",
       "      <td>OUT046</td>\n",
       "      <td>1996</td>\n",
       "      <td>Small</td>\n",
       "      <td>Tier 1</td>\n",
       "      <td>1306.514376</td>\n",
       "      <td>train</td>\n",
       "    </tr>\n",
       "    <tr>\n",
       "      <th>4</th>\n",
       "      <td>FDF47</td>\n",
       "      <td>21.247876</td>\n",
       "      <td>Baking Goods</td>\n",
       "      <td>240.871039</td>\n",
       "      <td>OUT035</td>\n",
       "      <td>1988</td>\n",
       "      <td>Small</td>\n",
       "      <td>Tier 3</td>\n",
       "      <td>1739.769829</td>\n",
       "      <td>train</td>\n",
       "    </tr>\n",
       "  </tbody>\n",
       "</table>\n",
       "</div>"
      ],
      "text/plain": [
       "  Item_ID     Item_W      Item_Type    Item_MRP Outlet_ID  Outlet_Year  \\\n",
       "0   FDU32  21.027499   Baking Goods  197.352319    OUT046         2004   \n",
       "1   NCT54  21.102371           Meat  148.250214    OUT035         1987   \n",
       "2   FDW08  20.882263    Hard Drinks  205.465010    OUT035         1999   \n",
       "3   FDJ22  21.050435  Starchy Foods  253.417583    OUT046         1996   \n",
       "4   FDF47  21.247876   Baking Goods  240.871039    OUT035         1988   \n",
       "\n",
       "  Outlet_Size Outlet_Location_Type        Sales source  \n",
       "0       Small               Tier 2  2689.457781  train  \n",
       "1       Small               Tier 1  3437.350375  train  \n",
       "2       Small               Tier 3  3129.967268  train  \n",
       "3       Small               Tier 1  1306.514376  train  \n",
       "4       Small               Tier 3  1739.769829  train  "
      ]
     },
     "execution_count": 15,
     "metadata": {},
     "output_type": "execute_result"
    }
   ],
   "source": [
    "#combining the train and test datasets in a dataframe\n",
    "df = pd.concat([train,test])\n",
    "df.head()"
   ]
  },
  {
   "cell_type": "code",
   "execution_count": 16,
   "metadata": {
    "ExecuteTime": {
     "end_time": "2021-10-24T11:24:15.202763Z",
     "start_time": "2021-10-24T11:24:15.185811Z"
    }
   },
   "outputs": [
    {
     "data": {
      "text/plain": [
       "(125520, 10)"
      ]
     },
     "execution_count": 16,
     "metadata": {},
     "output_type": "execute_result"
    }
   ],
   "source": [
    "df.shape"
   ]
  },
  {
   "cell_type": "code",
   "execution_count": 17,
   "metadata": {
    "ExecuteTime": {
     "end_time": "2021-10-24T11:24:15.464934Z",
     "start_time": "2021-10-24T11:24:15.203588Z"
    }
   },
   "outputs": [
    {
     "data": {
      "text/html": [
       "<div>\n",
       "<style scoped>\n",
       "    .dataframe tbody tr th:only-of-type {\n",
       "        vertical-align: middle;\n",
       "    }\n",
       "\n",
       "    .dataframe tbody tr th {\n",
       "        vertical-align: top;\n",
       "    }\n",
       "\n",
       "    .dataframe thead th {\n",
       "        text-align: right;\n",
       "    }\n",
       "</style>\n",
       "<table border=\"1\" class=\"dataframe\">\n",
       "  <thead>\n",
       "    <tr style=\"text-align: right;\">\n",
       "      <th></th>\n",
       "      <th>Item_ID</th>\n",
       "      <th>Item_W</th>\n",
       "      <th>Item_Type</th>\n",
       "      <th>Item_MRP</th>\n",
       "      <th>Outlet_ID</th>\n",
       "      <th>Outlet_Year</th>\n",
       "      <th>Outlet_Size</th>\n",
       "      <th>Outlet_Location_Type</th>\n",
       "      <th>Sales</th>\n",
       "      <th>source</th>\n",
       "    </tr>\n",
       "  </thead>\n",
       "  <tbody>\n",
       "    <tr>\n",
       "      <th>Item_ID</th>\n",
       "      <td>1.000000</td>\n",
       "      <td>0.006765</td>\n",
       "      <td>0.004781</td>\n",
       "      <td>0.008269</td>\n",
       "      <td>0.003244</td>\n",
       "      <td>-0.001179</td>\n",
       "      <td>0.009683</td>\n",
       "      <td>0.005271</td>\n",
       "      <td>0.003030</td>\n",
       "      <td>0.003909</td>\n",
       "    </tr>\n",
       "    <tr>\n",
       "      <th>Item_W</th>\n",
       "      <td>0.006765</td>\n",
       "      <td>1.000000</td>\n",
       "      <td>0.353246</td>\n",
       "      <td>0.989646</td>\n",
       "      <td>0.048621</td>\n",
       "      <td>0.019728</td>\n",
       "      <td>0.120192</td>\n",
       "      <td>0.051907</td>\n",
       "      <td>-0.112132</td>\n",
       "      <td>0.781754</td>\n",
       "    </tr>\n",
       "    <tr>\n",
       "      <th>Item_Type</th>\n",
       "      <td>0.004781</td>\n",
       "      <td>0.353246</td>\n",
       "      <td>1.000000</td>\n",
       "      <td>0.357629</td>\n",
       "      <td>0.037696</td>\n",
       "      <td>0.035291</td>\n",
       "      <td>0.057958</td>\n",
       "      <td>0.054908</td>\n",
       "      <td>-0.042571</td>\n",
       "      <td>0.297292</td>\n",
       "    </tr>\n",
       "    <tr>\n",
       "      <th>Item_MRP</th>\n",
       "      <td>0.008269</td>\n",
       "      <td>0.989646</td>\n",
       "      <td>0.357629</td>\n",
       "      <td>1.000000</td>\n",
       "      <td>0.050994</td>\n",
       "      <td>0.016236</td>\n",
       "      <td>0.122867</td>\n",
       "      <td>0.054027</td>\n",
       "      <td>-0.120744</td>\n",
       "      <td>0.792478</td>\n",
       "    </tr>\n",
       "    <tr>\n",
       "      <th>Outlet_ID</th>\n",
       "      <td>0.003244</td>\n",
       "      <td>0.048621</td>\n",
       "      <td>0.037696</td>\n",
       "      <td>0.050994</td>\n",
       "      <td>1.000000</td>\n",
       "      <td>0.126318</td>\n",
       "      <td>0.390739</td>\n",
       "      <td>0.396987</td>\n",
       "      <td>-0.057625</td>\n",
       "      <td>0.077346</td>\n",
       "    </tr>\n",
       "    <tr>\n",
       "      <th>Outlet_Year</th>\n",
       "      <td>-0.001179</td>\n",
       "      <td>0.019728</td>\n",
       "      <td>0.035291</td>\n",
       "      <td>0.016236</td>\n",
       "      <td>0.126318</td>\n",
       "      <td>1.000000</td>\n",
       "      <td>0.097967</td>\n",
       "      <td>0.154024</td>\n",
       "      <td>-0.017106</td>\n",
       "      <td>0.025625</td>\n",
       "    </tr>\n",
       "    <tr>\n",
       "      <th>Outlet_Size</th>\n",
       "      <td>0.009683</td>\n",
       "      <td>0.120192</td>\n",
       "      <td>0.057958</td>\n",
       "      <td>0.122867</td>\n",
       "      <td>0.390739</td>\n",
       "      <td>0.097967</td>\n",
       "      <td>1.000000</td>\n",
       "      <td>0.344884</td>\n",
       "      <td>-0.125815</td>\n",
       "      <td>0.176426</td>\n",
       "    </tr>\n",
       "    <tr>\n",
       "      <th>Outlet_Location_Type</th>\n",
       "      <td>0.005271</td>\n",
       "      <td>0.051907</td>\n",
       "      <td>0.054908</td>\n",
       "      <td>0.054027</td>\n",
       "      <td>0.396987</td>\n",
       "      <td>0.154024</td>\n",
       "      <td>0.344884</td>\n",
       "      <td>1.000000</td>\n",
       "      <td>-0.052072</td>\n",
       "      <td>0.077267</td>\n",
       "    </tr>\n",
       "    <tr>\n",
       "      <th>Sales</th>\n",
       "      <td>0.003030</td>\n",
       "      <td>-0.112132</td>\n",
       "      <td>-0.042571</td>\n",
       "      <td>-0.120744</td>\n",
       "      <td>-0.057625</td>\n",
       "      <td>-0.017106</td>\n",
       "      <td>-0.125815</td>\n",
       "      <td>-0.052072</td>\n",
       "      <td>1.000000</td>\n",
       "      <td>-0.688248</td>\n",
       "    </tr>\n",
       "    <tr>\n",
       "      <th>source</th>\n",
       "      <td>0.003909</td>\n",
       "      <td>0.781754</td>\n",
       "      <td>0.297292</td>\n",
       "      <td>0.792478</td>\n",
       "      <td>0.077346</td>\n",
       "      <td>0.025625</td>\n",
       "      <td>0.176426</td>\n",
       "      <td>0.077267</td>\n",
       "      <td>-0.688248</td>\n",
       "      <td>1.000000</td>\n",
       "    </tr>\n",
       "  </tbody>\n",
       "</table>\n",
       "</div>"
      ],
      "text/plain": [
       "                       Item_ID    Item_W  Item_Type  Item_MRP  Outlet_ID  \\\n",
       "Item_ID               1.000000  0.006765   0.004781  0.008269   0.003244   \n",
       "Item_W                0.006765  1.000000   0.353246  0.989646   0.048621   \n",
       "Item_Type             0.004781  0.353246   1.000000  0.357629   0.037696   \n",
       "Item_MRP              0.008269  0.989646   0.357629  1.000000   0.050994   \n",
       "Outlet_ID             0.003244  0.048621   0.037696  0.050994   1.000000   \n",
       "Outlet_Year          -0.001179  0.019728   0.035291  0.016236   0.126318   \n",
       "Outlet_Size           0.009683  0.120192   0.057958  0.122867   0.390739   \n",
       "Outlet_Location_Type  0.005271  0.051907   0.054908  0.054027   0.396987   \n",
       "Sales                 0.003030 -0.112132  -0.042571 -0.120744  -0.057625   \n",
       "source                0.003909  0.781754   0.297292  0.792478   0.077346   \n",
       "\n",
       "                      Outlet_Year  Outlet_Size  Outlet_Location_Type  \\\n",
       "Item_ID                 -0.001179     0.009683              0.005271   \n",
       "Item_W                   0.019728     0.120192              0.051907   \n",
       "Item_Type                0.035291     0.057958              0.054908   \n",
       "Item_MRP                 0.016236     0.122867              0.054027   \n",
       "Outlet_ID                0.126318     0.390739              0.396987   \n",
       "Outlet_Year              1.000000     0.097967              0.154024   \n",
       "Outlet_Size              0.097967     1.000000              0.344884   \n",
       "Outlet_Location_Type     0.154024     0.344884              1.000000   \n",
       "Sales                   -0.017106    -0.125815             -0.052072   \n",
       "source                   0.025625     0.176426              0.077267   \n",
       "\n",
       "                         Sales    source  \n",
       "Item_ID               0.003030  0.003909  \n",
       "Item_W               -0.112132  0.781754  \n",
       "Item_Type            -0.042571  0.297292  \n",
       "Item_MRP             -0.120744  0.792478  \n",
       "Outlet_ID            -0.057625  0.077346  \n",
       "Outlet_Year          -0.017106  0.025625  \n",
       "Outlet_Size          -0.125815  0.176426  \n",
       "Outlet_Location_Type -0.052072  0.077267  \n",
       "Sales                 1.000000 -0.688248  \n",
       "source               -0.688248  1.000000  "
      ]
     },
     "execution_count": 17,
     "metadata": {},
     "output_type": "execute_result"
    }
   ],
   "source": [
    "df_corr = df.apply(lambda x : pd.factorize(x)[0]).corr(method='pearson', min_periods=1)\n",
    "df_corr"
   ]
  },
  {
   "cell_type": "code",
   "execution_count": 18,
   "metadata": {
    "ExecuteTime": {
     "end_time": "2021-10-24T11:24:15.515031Z",
     "start_time": "2021-10-24T11:24:15.467926Z"
    },
    "execution": {
     "iopub.execute_input": "2021-07-25T13:52:54.996382Z",
     "iopub.status.busy": "2021-07-25T13:52:54.995993Z",
     "iopub.status.idle": "2021-07-25T13:52:55.051462Z",
     "shell.execute_reply": "2021-07-25T13:52:55.050584Z",
     "shell.execute_reply.started": "2021-07-25T13:52:54.996346Z"
    }
   },
   "outputs": [
    {
     "data": {
      "text/html": [
       "<div>\n",
       "<style scoped>\n",
       "    .dataframe tbody tr th:only-of-type {\n",
       "        vertical-align: middle;\n",
       "    }\n",
       "\n",
       "    .dataframe tbody tr th {\n",
       "        vertical-align: top;\n",
       "    }\n",
       "\n",
       "    .dataframe thead th {\n",
       "        text-align: right;\n",
       "    }\n",
       "</style>\n",
       "<table border=\"1\" class=\"dataframe\">\n",
       "  <thead>\n",
       "    <tr style=\"text-align: right;\">\n",
       "      <th></th>\n",
       "      <th>Item_ID</th>\n",
       "      <th>Item_Type</th>\n",
       "      <th>Outlet_ID</th>\n",
       "      <th>Outlet_Size</th>\n",
       "      <th>Outlet_Location_Type</th>\n",
       "      <th>source</th>\n",
       "    </tr>\n",
       "  </thead>\n",
       "  <tbody>\n",
       "    <tr>\n",
       "      <th>0</th>\n",
       "      <td>FDU32</td>\n",
       "      <td>Baking Goods</td>\n",
       "      <td>OUT046</td>\n",
       "      <td>Small</td>\n",
       "      <td>Tier 2</td>\n",
       "      <td>train</td>\n",
       "    </tr>\n",
       "    <tr>\n",
       "      <th>1</th>\n",
       "      <td>NCT54</td>\n",
       "      <td>Meat</td>\n",
       "      <td>OUT035</td>\n",
       "      <td>Small</td>\n",
       "      <td>Tier 1</td>\n",
       "      <td>train</td>\n",
       "    </tr>\n",
       "    <tr>\n",
       "      <th>2</th>\n",
       "      <td>FDW08</td>\n",
       "      <td>Hard Drinks</td>\n",
       "      <td>OUT035</td>\n",
       "      <td>Small</td>\n",
       "      <td>Tier 3</td>\n",
       "      <td>train</td>\n",
       "    </tr>\n",
       "    <tr>\n",
       "      <th>3</th>\n",
       "      <td>FDJ22</td>\n",
       "      <td>Starchy Foods</td>\n",
       "      <td>OUT046</td>\n",
       "      <td>Small</td>\n",
       "      <td>Tier 1</td>\n",
       "      <td>train</td>\n",
       "    </tr>\n",
       "    <tr>\n",
       "      <th>4</th>\n",
       "      <td>FDF47</td>\n",
       "      <td>Baking Goods</td>\n",
       "      <td>OUT035</td>\n",
       "      <td>Small</td>\n",
       "      <td>Tier 3</td>\n",
       "      <td>train</td>\n",
       "    </tr>\n",
       "  </tbody>\n",
       "</table>\n",
       "</div>"
      ],
      "text/plain": [
       "  Item_ID      Item_Type Outlet_ID Outlet_Size Outlet_Location_Type source\n",
       "0   FDU32   Baking Goods    OUT046       Small               Tier 2  train\n",
       "1   NCT54           Meat    OUT035       Small               Tier 1  train\n",
       "2   FDW08    Hard Drinks    OUT035       Small               Tier 3  train\n",
       "3   FDJ22  Starchy Foods    OUT046       Small               Tier 1  train\n",
       "4   FDF47   Baking Goods    OUT035       Small               Tier 3  train"
      ]
     },
     "execution_count": 18,
     "metadata": {},
     "output_type": "execute_result"
    }
   ],
   "source": [
    "#getting features with non numerical  or catagorical values\n",
    "df_catagory = df.select_dtypes(exclude=np.number)\n",
    "df_catagory.head()"
   ]
  },
  {
   "cell_type": "code",
   "execution_count": 19,
   "metadata": {
    "ExecuteTime": {
     "end_time": "2021-10-24T11:24:15.589358Z",
     "start_time": "2021-10-24T11:24:15.518022Z"
    },
    "execution": {
     "iopub.execute_input": "2021-07-25T13:52:58.320978Z",
     "iopub.status.busy": "2021-07-25T13:52:58.320604Z",
     "iopub.status.idle": "2021-07-25T13:52:58.342866Z",
     "shell.execute_reply": "2021-07-25T13:52:58.341865Z",
     "shell.execute_reply.started": "2021-07-25T13:52:58.320950Z"
    },
    "scrolled": false
   },
   "outputs": [
    {
     "data": {
      "text/plain": [
       "Item_ID                 0\n",
       "Item_Type               0\n",
       "Outlet_ID               0\n",
       "Outlet_Size             0\n",
       "Outlet_Location_Type    0\n",
       "source                  0\n",
       "dtype: int64"
      ]
     },
     "execution_count": 19,
     "metadata": {},
     "output_type": "execute_result"
    }
   ],
   "source": [
    "#check for null values in the df_catagory\n",
    "df_catagory.isna().sum()"
   ]
  },
  {
   "cell_type": "code",
   "execution_count": 20,
   "metadata": {
    "ExecuteTime": {
     "end_time": "2021-10-24T11:24:15.599721Z",
     "start_time": "2021-10-24T11:24:15.592009Z"
    }
   },
   "outputs": [
    {
     "data": {
      "text/plain": [
       "(125520, 6)"
      ]
     },
     "execution_count": 20,
     "metadata": {},
     "output_type": "execute_result"
    }
   ],
   "source": [
    "df_catagory.shape"
   ]
  },
  {
   "cell_type": "code",
   "execution_count": 21,
   "metadata": {
    "ExecuteTime": {
     "end_time": "2021-10-24T11:24:15.631139Z",
     "start_time": "2021-10-24T11:24:15.601746Z"
    }
   },
   "outputs": [
    {
     "data": {
      "text/plain": [
       "896"
      ]
     },
     "execution_count": 21,
     "metadata": {},
     "output_type": "execute_result"
    }
   ],
   "source": [
    "df_catagory['Item_ID'].nunique()"
   ]
  },
  {
   "cell_type": "code",
   "execution_count": 22,
   "metadata": {
    "ExecuteTime": {
     "end_time": "2021-10-24T11:24:15.650125Z",
     "start_time": "2021-10-24T11:24:15.631139Z"
    },
    "scrolled": true
   },
   "outputs": [
    {
     "data": {
      "text/plain": [
       "0    FDU32\n",
       "1    NCT54\n",
       "2    FDW08\n",
       "3    FDJ22\n",
       "4    FDF47\n",
       "Name: Item_ID, dtype: object"
      ]
     },
     "execution_count": 22,
     "metadata": {},
     "output_type": "execute_result"
    }
   ],
   "source": [
    "df_catagory['Item_ID'].head()"
   ]
  },
  {
   "cell_type": "markdown",
   "metadata": {},
   "source": [
    "# Feature Engineering"
   ]
  },
  {
   "cell_type": "code",
   "execution_count": 23,
   "metadata": {
    "ExecuteTime": {
     "end_time": "2021-10-24T11:24:15.739197Z",
     "start_time": "2021-10-24T11:24:15.652119Z"
    }
   },
   "outputs": [
    {
     "data": {
      "text/plain": [
       "FD    90780\n",
       "NC    23937\n",
       "DR    10803\n",
       "Name: Item_ID_2, dtype: int64"
      ]
     },
     "execution_count": 23,
     "metadata": {},
     "output_type": "execute_result"
    }
   ],
   "source": [
    "df_catagory[\"Item_ID_2\"]=df_catagory[\"Item_ID\"].apply(lambda x : x[0:2])\n",
    "df_catagory[\"Item_ID_2\"].value_counts()"
   ]
  },
  {
   "cell_type": "code",
   "execution_count": 24,
   "metadata": {
    "ExecuteTime": {
     "end_time": "2021-10-24T11:24:15.832320Z",
     "start_time": "2021-10-24T11:24:15.741824Z"
    }
   },
   "outputs": [
    {
     "data": {
      "text/plain": [
       "FDX    4874\n",
       "FDY    4471\n",
       "FDS    4442\n",
       "FDZ    4401\n",
       "FDD    4289\n",
       "       ... \n",
       "DRO     207\n",
       "DRZ     153\n",
       "DRQ     118\n",
       "DRP      75\n",
       "NCD      23\n",
       "Name: Item_ID_3, Length: 70, dtype: int64"
      ]
     },
     "execution_count": 24,
     "metadata": {},
     "output_type": "execute_result"
    }
   ],
   "source": [
    "df_catagory[\"Item_ID_3\"]=df_catagory[\"Item_ID\"].apply(lambda x : x[0:3])\n",
    "df_catagory[\"Item_ID_3\"].value_counts()"
   ]
  },
  {
   "cell_type": "code",
   "execution_count": 25,
   "metadata": {
    "ExecuteTime": {
     "end_time": "2021-10-24T11:24:15.856453Z",
     "start_time": "2021-10-24T11:24:15.832320Z"
    }
   },
   "outputs": [
    {
     "data": {
      "text/plain": [
       "70"
      ]
     },
     "execution_count": 25,
     "metadata": {},
     "output_type": "execute_result"
    }
   ],
   "source": [
    "df_catagory[\"Item_ID_3\"].nunique()"
   ]
  },
  {
   "cell_type": "code",
   "execution_count": 26,
   "metadata": {
    "ExecuteTime": {
     "end_time": "2021-10-24T11:24:15.884572Z",
     "start_time": "2021-10-24T11:24:15.859774Z"
    }
   },
   "outputs": [
    {
     "data": {
      "text/plain": [
       "16"
      ]
     },
     "execution_count": 26,
     "metadata": {},
     "output_type": "execute_result"
    }
   ],
   "source": [
    "df_catagory['Item_Type'].nunique()"
   ]
  },
  {
   "cell_type": "code",
   "execution_count": 27,
   "metadata": {
    "ExecuteTime": {
     "end_time": "2021-10-24T11:24:15.909763Z",
     "start_time": "2021-10-24T11:24:15.887563Z"
    }
   },
   "outputs": [
    {
     "data": {
      "text/plain": [
       "array(['Baking Goods', 'Meat', 'Hard Drinks', 'Starchy Foods', 'Breads',\n",
       "       'Others', 'Seafood', 'Fruits and Vegetables', 'Soft Drinks',\n",
       "       'Household', 'Snack Foods', 'Frozen Foods', 'Health and Hygiene',\n",
       "       'Canned', 'Dairy', 'Breakfast'], dtype=object)"
      ]
     },
     "execution_count": 27,
     "metadata": {},
     "output_type": "execute_result"
    }
   ],
   "source": [
    "df_catagory['Item_Type'].unique()"
   ]
  },
  {
   "cell_type": "code",
   "execution_count": 28,
   "metadata": {
    "ExecuteTime": {
     "end_time": "2021-10-24T11:24:15.946560Z",
     "start_time": "2021-10-24T11:24:15.918602Z"
    }
   },
   "outputs": [
    {
     "data": {
      "text/plain": [
       "5"
      ]
     },
     "execution_count": 28,
     "metadata": {},
     "output_type": "execute_result"
    }
   ],
   "source": [
    "df_catagory['Outlet_ID'].nunique()"
   ]
  },
  {
   "cell_type": "code",
   "execution_count": 29,
   "metadata": {
    "ExecuteTime": {
     "end_time": "2021-10-24T11:24:15.973561Z",
     "start_time": "2021-10-24T11:24:15.946560Z"
    }
   },
   "outputs": [
    {
     "data": {
      "text/plain": [
       "array(['OUT046', 'OUT035', 'OUT049', 'OUT018', 'OUT013'], dtype=object)"
      ]
     },
     "execution_count": 29,
     "metadata": {},
     "output_type": "execute_result"
    }
   ],
   "source": [
    "df_catagory['Outlet_ID'].unique()"
   ]
  },
  {
   "cell_type": "code",
   "execution_count": 30,
   "metadata": {
    "ExecuteTime": {
     "end_time": "2021-10-24T11:24:16.000995Z",
     "start_time": "2021-10-24T11:24:15.973561Z"
    }
   },
   "outputs": [
    {
     "data": {
      "text/plain": [
       "3"
      ]
     },
     "execution_count": 30,
     "metadata": {},
     "output_type": "execute_result"
    }
   ],
   "source": [
    "df_catagory['Outlet_Size'].nunique()"
   ]
  },
  {
   "cell_type": "code",
   "execution_count": 31,
   "metadata": {
    "ExecuteTime": {
     "end_time": "2021-10-24T11:24:16.028569Z",
     "start_time": "2021-10-24T11:24:16.000995Z"
    }
   },
   "outputs": [
    {
     "data": {
      "text/plain": [
       "array(['Small', 'Medium', 'High'], dtype=object)"
      ]
     },
     "execution_count": 31,
     "metadata": {},
     "output_type": "execute_result"
    }
   ],
   "source": [
    "df_catagory['Outlet_Size'].unique()"
   ]
  },
  {
   "cell_type": "code",
   "execution_count": 32,
   "metadata": {
    "ExecuteTime": {
     "end_time": "2021-10-24T11:24:16.052020Z",
     "start_time": "2021-10-24T11:24:16.028569Z"
    }
   },
   "outputs": [
    {
     "data": {
      "text/plain": [
       "3"
      ]
     },
     "execution_count": 32,
     "metadata": {},
     "output_type": "execute_result"
    }
   ],
   "source": [
    "df_catagory['Outlet_Location_Type'].nunique()"
   ]
  },
  {
   "cell_type": "code",
   "execution_count": 33,
   "metadata": {
    "ExecuteTime": {
     "end_time": "2021-10-24T11:24:16.075990Z",
     "start_time": "2021-10-24T11:24:16.055012Z"
    }
   },
   "outputs": [
    {
     "data": {
      "text/plain": [
       "array(['Tier 2', 'Tier 1', 'Tier 3'], dtype=object)"
      ]
     },
     "execution_count": 33,
     "metadata": {},
     "output_type": "execute_result"
    }
   ],
   "source": [
    "df_catagory['Outlet_Location_Type'].unique()"
   ]
  },
  {
   "cell_type": "markdown",
   "metadata": {},
   "source": [
    "# Label encoding on catagorical data"
   ]
  },
  {
   "cell_type": "code",
   "execution_count": 34,
   "metadata": {
    "ExecuteTime": {
     "end_time": "2021-10-24T11:24:16.419388Z",
     "start_time": "2021-10-24T11:24:16.079360Z"
    }
   },
   "outputs": [],
   "source": [
    "df_catagory['Item_ID_2'] = LabelEncoder().fit_transform(df_catagory['Item_ID_2'])\n",
    "df_catagory['Item_ID_3'] = LabelEncoder().fit_transform(df_catagory['Item_ID_3'])\n",
    "df_catagory['Item_Type'] = LabelEncoder().fit_transform(df_catagory['Item_Type'])\n",
    "df_catagory['Outlet_Size'] = LabelEncoder().fit_transform(df_catagory['Outlet_Size'])\n",
    "df_catagory['Outlet_ID'] = LabelEncoder().fit_transform(df_catagory['Outlet_ID'])\n",
    "df_catagory['Outlet_Location_Type'] = LabelEncoder().fit_transform(df_catagory['Outlet_Location_Type'])"
   ]
  },
  {
   "cell_type": "code",
   "execution_count": 35,
   "metadata": {
    "ExecuteTime": {
     "end_time": "2021-10-24T11:24:16.435010Z",
     "start_time": "2021-10-24T11:24:16.419388Z"
    }
   },
   "outputs": [
    {
     "data": {
      "text/plain": [
       "Index(['Item_ID', 'Item_Type', 'Outlet_ID', 'Outlet_Size',\n",
       "       'Outlet_Location_Type', 'source', 'Item_ID_2', 'Item_ID_3'],\n",
       "      dtype='object')"
      ]
     },
     "execution_count": 35,
     "metadata": {},
     "output_type": "execute_result"
    }
   ],
   "source": [
    "df_catagory.columns"
   ]
  },
  {
   "cell_type": "code",
   "execution_count": 36,
   "metadata": {
    "ExecuteTime": {
     "end_time": "2021-10-24T11:24:16.450471Z",
     "start_time": "2021-10-24T11:24:16.437505Z"
    }
   },
   "outputs": [],
   "source": [
    "del df_catagory['Item_ID']"
   ]
  },
  {
   "cell_type": "code",
   "execution_count": 37,
   "metadata": {
    "ExecuteTime": {
     "end_time": "2021-10-24T11:24:16.471440Z",
     "start_time": "2021-10-24T11:24:16.453463Z"
    }
   },
   "outputs": [
    {
     "data": {
      "text/html": [
       "<div>\n",
       "<style scoped>\n",
       "    .dataframe tbody tr th:only-of-type {\n",
       "        vertical-align: middle;\n",
       "    }\n",
       "\n",
       "    .dataframe tbody tr th {\n",
       "        vertical-align: top;\n",
       "    }\n",
       "\n",
       "    .dataframe thead th {\n",
       "        text-align: right;\n",
       "    }\n",
       "</style>\n",
       "<table border=\"1\" class=\"dataframe\">\n",
       "  <thead>\n",
       "    <tr style=\"text-align: right;\">\n",
       "      <th></th>\n",
       "      <th>Item_Type</th>\n",
       "      <th>Outlet_ID</th>\n",
       "      <th>Outlet_Size</th>\n",
       "      <th>Outlet_Location_Type</th>\n",
       "      <th>source</th>\n",
       "      <th>Item_ID_2</th>\n",
       "      <th>Item_ID_3</th>\n",
       "    </tr>\n",
       "  </thead>\n",
       "  <tbody>\n",
       "    <tr>\n",
       "      <th>0</th>\n",
       "      <td>0</td>\n",
       "      <td>3</td>\n",
       "      <td>2</td>\n",
       "      <td>1</td>\n",
       "      <td>train</td>\n",
       "      <td>1</td>\n",
       "      <td>38</td>\n",
       "    </tr>\n",
       "    <tr>\n",
       "      <th>1</th>\n",
       "      <td>10</td>\n",
       "      <td>2</td>\n",
       "      <td>2</td>\n",
       "      <td>0</td>\n",
       "      <td>train</td>\n",
       "      <td>2</td>\n",
       "      <td>63</td>\n",
       "    </tr>\n",
       "    <tr>\n",
       "      <th>2</th>\n",
       "      <td>7</td>\n",
       "      <td>2</td>\n",
       "      <td>2</td>\n",
       "      <td>2</td>\n",
       "      <td>train</td>\n",
       "      <td>1</td>\n",
       "      <td>40</td>\n",
       "    </tr>\n",
       "    <tr>\n",
       "      <th>3</th>\n",
       "      <td>15</td>\n",
       "      <td>3</td>\n",
       "      <td>2</td>\n",
       "      <td>0</td>\n",
       "      <td>train</td>\n",
       "      <td>1</td>\n",
       "      <td>27</td>\n",
       "    </tr>\n",
       "    <tr>\n",
       "      <th>4</th>\n",
       "      <td>0</td>\n",
       "      <td>2</td>\n",
       "      <td>2</td>\n",
       "      <td>2</td>\n",
       "      <td>train</td>\n",
       "      <td>1</td>\n",
       "      <td>23</td>\n",
       "    </tr>\n",
       "  </tbody>\n",
       "</table>\n",
       "</div>"
      ],
      "text/plain": [
       "   Item_Type  Outlet_ID  Outlet_Size  Outlet_Location_Type source  Item_ID_2  \\\n",
       "0          0          3            2                     1  train          1   \n",
       "1         10          2            2                     0  train          2   \n",
       "2          7          2            2                     2  train          1   \n",
       "3         15          3            2                     0  train          1   \n",
       "4          0          2            2                     2  train          1   \n",
       "\n",
       "   Item_ID_3  \n",
       "0         38  \n",
       "1         63  \n",
       "2         40  \n",
       "3         27  \n",
       "4         23  "
      ]
     },
     "execution_count": 37,
     "metadata": {},
     "output_type": "execute_result"
    }
   ],
   "source": [
    "df_catagory.head()"
   ]
  },
  {
   "cell_type": "code",
   "execution_count": 38,
   "metadata": {
    "ExecuteTime": {
     "end_time": "2021-10-24T11:24:16.501621Z",
     "start_time": "2021-10-24T11:24:16.473459Z"
    }
   },
   "outputs": [
    {
     "data": {
      "text/html": [
       "<div>\n",
       "<style scoped>\n",
       "    .dataframe tbody tr th:only-of-type {\n",
       "        vertical-align: middle;\n",
       "    }\n",
       "\n",
       "    .dataframe tbody tr th {\n",
       "        vertical-align: top;\n",
       "    }\n",
       "\n",
       "    .dataframe thead th {\n",
       "        text-align: right;\n",
       "    }\n",
       "</style>\n",
       "<table border=\"1\" class=\"dataframe\">\n",
       "  <thead>\n",
       "    <tr style=\"text-align: right;\">\n",
       "      <th></th>\n",
       "      <th>Item_W</th>\n",
       "      <th>Item_MRP</th>\n",
       "      <th>Outlet_Year</th>\n",
       "    </tr>\n",
       "  </thead>\n",
       "  <tbody>\n",
       "    <tr>\n",
       "      <th>0</th>\n",
       "      <td>21.027499</td>\n",
       "      <td>197.352319</td>\n",
       "      <td>2004</td>\n",
       "    </tr>\n",
       "    <tr>\n",
       "      <th>1</th>\n",
       "      <td>21.102371</td>\n",
       "      <td>148.250214</td>\n",
       "      <td>1987</td>\n",
       "    </tr>\n",
       "    <tr>\n",
       "      <th>2</th>\n",
       "      <td>20.882263</td>\n",
       "      <td>205.465010</td>\n",
       "      <td>1999</td>\n",
       "    </tr>\n",
       "    <tr>\n",
       "      <th>3</th>\n",
       "      <td>21.050435</td>\n",
       "      <td>253.417583</td>\n",
       "      <td>1996</td>\n",
       "    </tr>\n",
       "    <tr>\n",
       "      <th>4</th>\n",
       "      <td>21.247876</td>\n",
       "      <td>240.871039</td>\n",
       "      <td>1988</td>\n",
       "    </tr>\n",
       "  </tbody>\n",
       "</table>\n",
       "</div>"
      ],
      "text/plain": [
       "      Item_W    Item_MRP  Outlet_Year\n",
       "0  21.027499  197.352319         2004\n",
       "1  21.102371  148.250214         1987\n",
       "2  20.882263  205.465010         1999\n",
       "3  21.050435  253.417583         1996\n",
       "4  21.247876  240.871039         1988"
      ]
     },
     "execution_count": 38,
     "metadata": {},
     "output_type": "execute_result"
    }
   ],
   "source": [
    "df_numeric = df.select_dtypes(include=np.number).drop(columns = 'Sales')\n",
    "df_numeric.head()"
   ]
  },
  {
   "cell_type": "code",
   "execution_count": 39,
   "metadata": {
    "ExecuteTime": {
     "end_time": "2021-10-24T11:24:16.521736Z",
     "start_time": "2021-10-24T11:24:16.503653Z"
    }
   },
   "outputs": [
    {
     "data": {
      "text/plain": [
       "Item_W         0\n",
       "Item_MRP       0\n",
       "Outlet_Year    0\n",
       "dtype: int64"
      ]
     },
     "execution_count": 39,
     "metadata": {},
     "output_type": "execute_result"
    }
   ],
   "source": [
    "df_numeric.isna().sum()"
   ]
  },
  {
   "cell_type": "code",
   "execution_count": 40,
   "metadata": {
    "ExecuteTime": {
     "end_time": "2021-10-24T11:24:16.553901Z",
     "start_time": "2021-10-24T11:24:16.524804Z"
    },
    "scrolled": false
   },
   "outputs": [
    {
     "data": {
      "text/html": [
       "<div>\n",
       "<style scoped>\n",
       "    .dataframe tbody tr th:only-of-type {\n",
       "        vertical-align: middle;\n",
       "    }\n",
       "\n",
       "    .dataframe tbody tr th {\n",
       "        vertical-align: top;\n",
       "    }\n",
       "\n",
       "    .dataframe thead th {\n",
       "        text-align: right;\n",
       "    }\n",
       "</style>\n",
       "<table border=\"1\" class=\"dataframe\">\n",
       "  <thead>\n",
       "    <tr style=\"text-align: right;\">\n",
       "      <th></th>\n",
       "      <th>Item_W</th>\n",
       "      <th>Item_MRP</th>\n",
       "      <th>Outlet_Year</th>\n",
       "    </tr>\n",
       "  </thead>\n",
       "  <tbody>\n",
       "    <tr>\n",
       "      <th>Item_W</th>\n",
       "      <td>1.000000</td>\n",
       "      <td>0.000556</td>\n",
       "      <td>0.002453</td>\n",
       "    </tr>\n",
       "    <tr>\n",
       "      <th>Item_MRP</th>\n",
       "      <td>0.000556</td>\n",
       "      <td>1.000000</td>\n",
       "      <td>-0.014450</td>\n",
       "    </tr>\n",
       "    <tr>\n",
       "      <th>Outlet_Year</th>\n",
       "      <td>0.002453</td>\n",
       "      <td>-0.014450</td>\n",
       "      <td>1.000000</td>\n",
       "    </tr>\n",
       "  </tbody>\n",
       "</table>\n",
       "</div>"
      ],
      "text/plain": [
       "               Item_W  Item_MRP  Outlet_Year\n",
       "Item_W       1.000000  0.000556     0.002453\n",
       "Item_MRP     0.000556  1.000000    -0.014450\n",
       "Outlet_Year  0.002453 -0.014450     1.000000"
      ]
     },
     "execution_count": 40,
     "metadata": {},
     "output_type": "execute_result"
    }
   ],
   "source": [
    "df_numeric.corr()"
   ]
  },
  {
   "cell_type": "code",
   "execution_count": 41,
   "metadata": {
    "ExecuteTime": {
     "end_time": "2021-10-24T11:24:16.581564Z",
     "start_time": "2021-10-24T11:24:16.553901Z"
    }
   },
   "outputs": [
    {
     "data": {
      "text/plain": [
       "12"
      ]
     },
     "execution_count": 41,
     "metadata": {},
     "output_type": "execute_result"
    }
   ],
   "source": [
    "df_numeric['Outlet_Year'].nunique()"
   ]
  },
  {
   "cell_type": "code",
   "execution_count": 42,
   "metadata": {
    "ExecuteTime": {
     "end_time": "2021-10-24T11:24:16.597038Z",
     "start_time": "2021-10-24T11:24:16.584072Z"
    },
    "scrolled": true
   },
   "outputs": [
    {
     "data": {
      "text/plain": [
       "array([2004, 1987, 1999, 1996, 1988, 1997, 2009, 2003, 2008, 1998, 2005,\n",
       "       2007], dtype=int64)"
      ]
     },
     "execution_count": 42,
     "metadata": {},
     "output_type": "execute_result"
    }
   ],
   "source": [
    "df_numeric['Outlet_Year'].unique()"
   ]
  },
  {
   "cell_type": "markdown",
   "metadata": {
    "ExecuteTime": {
     "end_time": "2021-10-24T07:57:45.322954Z",
     "start_time": "2021-10-24T07:57:45.316969Z"
    }
   },
   "source": [
    "## Fetaure engineering on Outlet_Year feature"
   ]
  },
  {
   "cell_type": "code",
   "execution_count": 43,
   "metadata": {
    "ExecuteTime": {
     "end_time": "2021-10-24T11:24:16.612995Z",
     "start_time": "2021-10-24T11:24:16.600030Z"
    }
   },
   "outputs": [
    {
     "data": {
      "text/plain": [
       "2021"
      ]
     },
     "execution_count": 43,
     "metadata": {},
     "output_type": "execute_result"
    }
   ],
   "source": [
    "from datetime import datetime\n",
    "datetime.now().year"
   ]
  },
  {
   "cell_type": "code",
   "execution_count": 44,
   "metadata": {
    "ExecuteTime": {
     "end_time": "2021-10-24T11:24:16.628953Z",
     "start_time": "2021-10-24T11:24:16.615989Z"
    }
   },
   "outputs": [],
   "source": [
    "df_numeric[\"Outlet_Age\"] = datetime.now().year-df_numeric[\"Outlet_Year\"]"
   ]
  },
  {
   "cell_type": "code",
   "execution_count": 45,
   "metadata": {
    "ExecuteTime": {
     "end_time": "2021-10-24T11:24:16.644910Z",
     "start_time": "2021-10-24T11:24:16.631944Z"
    }
   },
   "outputs": [
    {
     "data": {
      "text/plain": [
       "0        17\n",
       "1        34\n",
       "2        22\n",
       "3        25\n",
       "4        33\n",
       "         ..\n",
       "37651    12\n",
       "37652    12\n",
       "37653    24\n",
       "37654    12\n",
       "37655    12\n",
       "Name: Outlet_Age, Length: 125520, dtype: int64"
      ]
     },
     "execution_count": 45,
     "metadata": {},
     "output_type": "execute_result"
    }
   ],
   "source": [
    "df_numeric[\"Outlet_Age\"]"
   ]
  },
  {
   "cell_type": "code",
   "execution_count": 46,
   "metadata": {
    "ExecuteTime": {
     "end_time": "2021-10-24T11:24:16.660867Z",
     "start_time": "2021-10-24T11:24:16.647902Z"
    }
   },
   "outputs": [
    {
     "data": {
      "text/plain": [
       "12"
      ]
     },
     "execution_count": 46,
     "metadata": {},
     "output_type": "execute_result"
    }
   ],
   "source": [
    "df_numeric[\"Outlet_Age\"].nunique()"
   ]
  },
  {
   "cell_type": "code",
   "execution_count": 47,
   "metadata": {
    "ExecuteTime": {
     "end_time": "2021-10-24T11:24:16.676825Z",
     "start_time": "2021-10-24T11:24:16.664855Z"
    }
   },
   "outputs": [],
   "source": [
    "del df_numeric['Outlet_Year']"
   ]
  },
  {
   "cell_type": "code",
   "execution_count": 48,
   "metadata": {
    "ExecuteTime": {
     "end_time": "2021-10-24T11:24:16.708740Z",
     "start_time": "2021-10-24T11:24:16.680814Z"
    },
    "scrolled": true
   },
   "outputs": [
    {
     "data": {
      "text/html": [
       "<div>\n",
       "<style scoped>\n",
       "    .dataframe tbody tr th:only-of-type {\n",
       "        vertical-align: middle;\n",
       "    }\n",
       "\n",
       "    .dataframe tbody tr th {\n",
       "        vertical-align: top;\n",
       "    }\n",
       "\n",
       "    .dataframe thead th {\n",
       "        text-align: right;\n",
       "    }\n",
       "</style>\n",
       "<table border=\"1\" class=\"dataframe\">\n",
       "  <thead>\n",
       "    <tr style=\"text-align: right;\">\n",
       "      <th></th>\n",
       "      <th>Item_Type</th>\n",
       "      <th>Outlet_ID</th>\n",
       "      <th>Outlet_Size</th>\n",
       "      <th>Outlet_Location_Type</th>\n",
       "      <th>source</th>\n",
       "      <th>Item_ID_2</th>\n",
       "      <th>Item_ID_3</th>\n",
       "    </tr>\n",
       "  </thead>\n",
       "  <tbody>\n",
       "    <tr>\n",
       "      <th>0</th>\n",
       "      <td>0</td>\n",
       "      <td>3</td>\n",
       "      <td>2</td>\n",
       "      <td>1</td>\n",
       "      <td>train</td>\n",
       "      <td>1</td>\n",
       "      <td>38</td>\n",
       "    </tr>\n",
       "    <tr>\n",
       "      <th>1</th>\n",
       "      <td>10</td>\n",
       "      <td>2</td>\n",
       "      <td>2</td>\n",
       "      <td>0</td>\n",
       "      <td>train</td>\n",
       "      <td>2</td>\n",
       "      <td>63</td>\n",
       "    </tr>\n",
       "    <tr>\n",
       "      <th>2</th>\n",
       "      <td>7</td>\n",
       "      <td>2</td>\n",
       "      <td>2</td>\n",
       "      <td>2</td>\n",
       "      <td>train</td>\n",
       "      <td>1</td>\n",
       "      <td>40</td>\n",
       "    </tr>\n",
       "    <tr>\n",
       "      <th>3</th>\n",
       "      <td>15</td>\n",
       "      <td>3</td>\n",
       "      <td>2</td>\n",
       "      <td>0</td>\n",
       "      <td>train</td>\n",
       "      <td>1</td>\n",
       "      <td>27</td>\n",
       "    </tr>\n",
       "    <tr>\n",
       "      <th>4</th>\n",
       "      <td>0</td>\n",
       "      <td>2</td>\n",
       "      <td>2</td>\n",
       "      <td>2</td>\n",
       "      <td>train</td>\n",
       "      <td>1</td>\n",
       "      <td>23</td>\n",
       "    </tr>\n",
       "  </tbody>\n",
       "</table>\n",
       "</div>"
      ],
      "text/plain": [
       "   Item_Type  Outlet_ID  Outlet_Size  Outlet_Location_Type source  Item_ID_2  \\\n",
       "0          0          3            2                     1  train          1   \n",
       "1         10          2            2                     0  train          2   \n",
       "2          7          2            2                     2  train          1   \n",
       "3         15          3            2                     0  train          1   \n",
       "4          0          2            2                     2  train          1   \n",
       "\n",
       "   Item_ID_3  \n",
       "0         38  \n",
       "1         63  \n",
       "2         40  \n",
       "3         27  \n",
       "4         23  "
      ]
     },
     "execution_count": 48,
     "metadata": {},
     "output_type": "execute_result"
    }
   ],
   "source": [
    "df_catagory.head()"
   ]
  },
  {
   "cell_type": "code",
   "execution_count": 49,
   "metadata": {
    "ExecuteTime": {
     "end_time": "2021-10-24T11:24:16.740654Z",
     "start_time": "2021-10-24T11:24:16.711733Z"
    }
   },
   "outputs": [
    {
     "data": {
      "text/html": [
       "<div>\n",
       "<style scoped>\n",
       "    .dataframe tbody tr th:only-of-type {\n",
       "        vertical-align: middle;\n",
       "    }\n",
       "\n",
       "    .dataframe tbody tr th {\n",
       "        vertical-align: top;\n",
       "    }\n",
       "\n",
       "    .dataframe thead th {\n",
       "        text-align: right;\n",
       "    }\n",
       "</style>\n",
       "<table border=\"1\" class=\"dataframe\">\n",
       "  <thead>\n",
       "    <tr style=\"text-align: right;\">\n",
       "      <th></th>\n",
       "      <th>Item_W</th>\n",
       "      <th>Item_MRP</th>\n",
       "      <th>Outlet_Age</th>\n",
       "    </tr>\n",
       "  </thead>\n",
       "  <tbody>\n",
       "    <tr>\n",
       "      <th>0</th>\n",
       "      <td>21.027499</td>\n",
       "      <td>197.352319</td>\n",
       "      <td>17</td>\n",
       "    </tr>\n",
       "    <tr>\n",
       "      <th>1</th>\n",
       "      <td>21.102371</td>\n",
       "      <td>148.250214</td>\n",
       "      <td>34</td>\n",
       "    </tr>\n",
       "    <tr>\n",
       "      <th>2</th>\n",
       "      <td>20.882263</td>\n",
       "      <td>205.465010</td>\n",
       "      <td>22</td>\n",
       "    </tr>\n",
       "    <tr>\n",
       "      <th>3</th>\n",
       "      <td>21.050435</td>\n",
       "      <td>253.417583</td>\n",
       "      <td>25</td>\n",
       "    </tr>\n",
       "    <tr>\n",
       "      <th>4</th>\n",
       "      <td>21.247876</td>\n",
       "      <td>240.871039</td>\n",
       "      <td>33</td>\n",
       "    </tr>\n",
       "  </tbody>\n",
       "</table>\n",
       "</div>"
      ],
      "text/plain": [
       "      Item_W    Item_MRP  Outlet_Age\n",
       "0  21.027499  197.352319          17\n",
       "1  21.102371  148.250214          34\n",
       "2  20.882263  205.465010          22\n",
       "3  21.050435  253.417583          25\n",
       "4  21.247876  240.871039          33"
      ]
     },
     "execution_count": 49,
     "metadata": {},
     "output_type": "execute_result"
    }
   ],
   "source": [
    "df_numeric.head()"
   ]
  },
  {
   "cell_type": "code",
   "execution_count": 50,
   "metadata": {
    "ExecuteTime": {
     "end_time": "2021-10-24T11:24:18.048504Z",
     "start_time": "2021-10-24T11:24:16.743646Z"
    }
   },
   "outputs": [],
   "source": [
    "preprocessed_data = pd.concat([df_numeric,df_catagory, df['Sales']] , axis = 1)\n",
    "\n",
    "preprocessed_data.to_csv('preprocessed_SN_RS.csv', index = False)"
   ]
  },
  {
   "cell_type": "code",
   "execution_count": 51,
   "metadata": {
    "ExecuteTime": {
     "end_time": "2021-10-24T11:24:18.379618Z",
     "start_time": "2021-10-24T11:24:18.051497Z"
    }
   },
   "outputs": [],
   "source": [
    "preprocessed_data= pd.read_csv('preprocessed_SN_RS.csv')"
   ]
  },
  {
   "cell_type": "code",
   "execution_count": 52,
   "metadata": {
    "ExecuteTime": {
     "end_time": "2021-10-24T11:24:18.411535Z",
     "start_time": "2021-10-24T11:24:18.383609Z"
    }
   },
   "outputs": [
    {
     "data": {
      "text/html": [
       "<div>\n",
       "<style scoped>\n",
       "    .dataframe tbody tr th:only-of-type {\n",
       "        vertical-align: middle;\n",
       "    }\n",
       "\n",
       "    .dataframe tbody tr th {\n",
       "        vertical-align: top;\n",
       "    }\n",
       "\n",
       "    .dataframe thead th {\n",
       "        text-align: right;\n",
       "    }\n",
       "</style>\n",
       "<table border=\"1\" class=\"dataframe\">\n",
       "  <thead>\n",
       "    <tr style=\"text-align: right;\">\n",
       "      <th></th>\n",
       "      <th>Item_W</th>\n",
       "      <th>Item_MRP</th>\n",
       "      <th>Outlet_Age</th>\n",
       "      <th>Item_Type</th>\n",
       "      <th>Outlet_ID</th>\n",
       "      <th>Outlet_Size</th>\n",
       "      <th>Outlet_Location_Type</th>\n",
       "      <th>source</th>\n",
       "      <th>Item_ID_2</th>\n",
       "      <th>Item_ID_3</th>\n",
       "      <th>Sales</th>\n",
       "    </tr>\n",
       "  </thead>\n",
       "  <tbody>\n",
       "    <tr>\n",
       "      <th>0</th>\n",
       "      <td>21.027499</td>\n",
       "      <td>197.352319</td>\n",
       "      <td>17</td>\n",
       "      <td>0</td>\n",
       "      <td>3</td>\n",
       "      <td>2</td>\n",
       "      <td>1</td>\n",
       "      <td>train</td>\n",
       "      <td>1</td>\n",
       "      <td>38</td>\n",
       "      <td>2689.457781</td>\n",
       "    </tr>\n",
       "    <tr>\n",
       "      <th>1</th>\n",
       "      <td>21.102371</td>\n",
       "      <td>148.250214</td>\n",
       "      <td>34</td>\n",
       "      <td>10</td>\n",
       "      <td>2</td>\n",
       "      <td>2</td>\n",
       "      <td>0</td>\n",
       "      <td>train</td>\n",
       "      <td>2</td>\n",
       "      <td>63</td>\n",
       "      <td>3437.350375</td>\n",
       "    </tr>\n",
       "    <tr>\n",
       "      <th>2</th>\n",
       "      <td>20.882263</td>\n",
       "      <td>205.465010</td>\n",
       "      <td>22</td>\n",
       "      <td>7</td>\n",
       "      <td>2</td>\n",
       "      <td>2</td>\n",
       "      <td>2</td>\n",
       "      <td>train</td>\n",
       "      <td>1</td>\n",
       "      <td>40</td>\n",
       "      <td>3129.967268</td>\n",
       "    </tr>\n",
       "    <tr>\n",
       "      <th>3</th>\n",
       "      <td>21.050435</td>\n",
       "      <td>253.417583</td>\n",
       "      <td>25</td>\n",
       "      <td>15</td>\n",
       "      <td>3</td>\n",
       "      <td>2</td>\n",
       "      <td>0</td>\n",
       "      <td>train</td>\n",
       "      <td>1</td>\n",
       "      <td>27</td>\n",
       "      <td>1306.514376</td>\n",
       "    </tr>\n",
       "    <tr>\n",
       "      <th>4</th>\n",
       "      <td>21.247876</td>\n",
       "      <td>240.871039</td>\n",
       "      <td>33</td>\n",
       "      <td>0</td>\n",
       "      <td>2</td>\n",
       "      <td>2</td>\n",
       "      <td>2</td>\n",
       "      <td>train</td>\n",
       "      <td>1</td>\n",
       "      <td>23</td>\n",
       "      <td>1739.769829</td>\n",
       "    </tr>\n",
       "  </tbody>\n",
       "</table>\n",
       "</div>"
      ],
      "text/plain": [
       "      Item_W    Item_MRP  Outlet_Age  Item_Type  Outlet_ID  Outlet_Size  \\\n",
       "0  21.027499  197.352319          17          0          3            2   \n",
       "1  21.102371  148.250214          34         10          2            2   \n",
       "2  20.882263  205.465010          22          7          2            2   \n",
       "3  21.050435  253.417583          25         15          3            2   \n",
       "4  21.247876  240.871039          33          0          2            2   \n",
       "\n",
       "   Outlet_Location_Type source  Item_ID_2  Item_ID_3        Sales  \n",
       "0                     1  train          1         38  2689.457781  \n",
       "1                     0  train          2         63  3437.350375  \n",
       "2                     2  train          1         40  3129.967268  \n",
       "3                     0  train          1         27  1306.514376  \n",
       "4                     2  train          1         23  1739.769829  "
      ]
     },
     "execution_count": 52,
     "metadata": {},
     "output_type": "execute_result"
    }
   ],
   "source": [
    "preprocessed_data.head()"
   ]
  },
  {
   "cell_type": "code",
   "execution_count": 53,
   "metadata": {
    "ExecuteTime": {
     "end_time": "2021-10-24T11:24:19.452751Z",
     "start_time": "2021-10-24T11:24:18.414532Z"
    },
    "scrolled": true
   },
   "outputs": [
    {
     "name": "stdout",
     "output_type": "stream",
     "text": [
      "                feature        VIF\n",
      "0                Item_W   9.286322\n",
      "1              Item_MRP   6.279313\n",
      "2            Outlet_Age   8.533673\n",
      "3             Item_Type   3.238361\n",
      "4             Outlet_ID   3.975542\n",
      "5           Outlet_Size   4.563933\n",
      "6  Outlet_Location_Type   2.456952\n",
      "7             Item_ID_2  21.339644\n",
      "8             Item_ID_3  24.346687\n"
     ]
    }
   ],
   "source": [
    "#Check for Multi Collinearity\n",
    "from statsmodels.stats.outliers_influence import variance_inflation_factor \n",
    "\n",
    "# the independent variables set \n",
    "X = preprocessed_data.select_dtypes(include=np.number).drop(columns=[\"Sales\"])\n",
    "  \n",
    "# VIF dataframe \n",
    "vif_data = pd.DataFrame() \n",
    "vif_data[\"feature\"] = X.columns \n",
    "  \n",
    "# calculating VIF for each feature \n",
    "vif_data[\"VIF\"] = [variance_inflation_factor(X.values, i) \n",
    "                          for i in range(len(X.columns))] \n",
    "  \n",
    "print(vif_data)"
   ]
  },
  {
   "cell_type": "code",
   "execution_count": 54,
   "metadata": {
    "ExecuteTime": {
     "end_time": "2021-10-24T11:24:19.484668Z",
     "start_time": "2021-10-24T11:24:19.456739Z"
    }
   },
   "outputs": [],
   "source": [
    "#dropping the fetaures with high multicollinearity(VIF>9)\n",
    "preprocessed_data = preprocessed_data.drop(columns=[\"Item_ID_2\",\"Item_ID_3\",\"Item_W\"]) "
   ]
  },
  {
   "cell_type": "code",
   "execution_count": 55,
   "metadata": {
    "ExecuteTime": {
     "end_time": "2021-10-24T11:24:19.878613Z",
     "start_time": "2021-10-24T11:24:19.488655Z"
    }
   },
   "outputs": [
    {
     "name": "stdout",
     "output_type": "stream",
     "text": [
      "                feature       VIF\n",
      "0              Item_MRP  5.777890\n",
      "1            Outlet_Age  7.059225\n",
      "2             Item_Type  3.128976\n",
      "3             Outlet_ID  3.864901\n",
      "4           Outlet_Size  4.340487\n",
      "5  Outlet_Location_Type  2.174130\n"
     ]
    }
   ],
   "source": [
    "#RE-Check for Multi Collinearity\n",
    "from statsmodels.stats.outliers_influence import variance_inflation_factor \n",
    "\n",
    "# the independent variables set \n",
    "X = preprocessed_data.select_dtypes(include=np.number).drop(columns=[\"Sales\"])\n",
    "  \n",
    "# VIF dataframe \n",
    "vif_data = pd.DataFrame() \n",
    "vif_data[\"feature\"] = X.columns \n",
    "  \n",
    "# calculating VIF for each feature \n",
    "vif_data[\"VIF\"] = [variance_inflation_factor(X.values, i) \n",
    "                          for i in range(len(X.columns))] \n",
    "  \n",
    "print(vif_data)"
   ]
  },
  {
   "cell_type": "code",
   "execution_count": 56,
   "metadata": {
    "ExecuteTime": {
     "end_time": "2021-10-24T11:24:19.908532Z",
     "start_time": "2021-10-24T11:24:19.884597Z"
    }
   },
   "outputs": [
    {
     "data": {
      "text/plain": [
       "(125520, 8)"
      ]
     },
     "execution_count": 56,
     "metadata": {},
     "output_type": "execute_result"
    }
   ],
   "source": [
    "preprocessed_data.shape"
   ]
  },
  {
   "cell_type": "code",
   "execution_count": 57,
   "metadata": {
    "ExecuteTime": {
     "end_time": "2021-10-24T11:24:19.939450Z",
     "start_time": "2021-10-24T11:24:19.911524Z"
    }
   },
   "outputs": [
    {
     "data": {
      "text/plain": [
       "Item_MRP                    0\n",
       "Outlet_Age                  0\n",
       "Item_Type                   0\n",
       "Outlet_ID                   0\n",
       "Outlet_Size                 0\n",
       "Outlet_Location_Type        0\n",
       "source                      0\n",
       "Sales                   37656\n",
       "dtype: int64"
      ]
     },
     "execution_count": 57,
     "metadata": {},
     "output_type": "execute_result"
    }
   ],
   "source": [
    "preprocessed_data.isna().sum()"
   ]
  },
  {
   "cell_type": "code",
   "execution_count": null,
   "metadata": {},
   "outputs": [],
   "source": []
  },
  {
   "cell_type": "code",
   "execution_count": 58,
   "metadata": {
    "ExecuteTime": {
     "end_time": "2021-10-24T11:24:20.047164Z",
     "start_time": "2021-10-24T11:24:19.942442Z"
    }
   },
   "outputs": [],
   "source": [
    "train_preprocessed = preprocessed_data[preprocessed_data[\"source\"]==\"train\"]\n",
    "del train_preprocessed['source']"
   ]
  },
  {
   "cell_type": "code",
   "execution_count": 59,
   "metadata": {
    "ExecuteTime": {
     "end_time": "2021-10-24T11:24:20.079078Z",
     "start_time": "2021-10-24T11:24:20.050154Z"
    }
   },
   "outputs": [],
   "source": [
    "test_preprocessed = preprocessed_data[preprocessed_data[\"source\"]==\"test\"]\n",
    "del test_preprocessed['source']"
   ]
  },
  {
   "cell_type": "code",
   "execution_count": 60,
   "metadata": {
    "ExecuteTime": {
     "end_time": "2021-10-24T11:24:20.094035Z",
     "start_time": "2021-10-24T11:24:20.083066Z"
    }
   },
   "outputs": [
    {
     "data": {
      "text/plain": [
       "(87864, 7)"
      ]
     },
     "execution_count": 60,
     "metadata": {},
     "output_type": "execute_result"
    }
   ],
   "source": [
    "train_preprocessed.shape"
   ]
  },
  {
   "cell_type": "code",
   "execution_count": 61,
   "metadata": {
    "ExecuteTime": {
     "end_time": "2021-10-24T11:24:20.108997Z",
     "start_time": "2021-10-24T11:24:20.097029Z"
    }
   },
   "outputs": [
    {
     "data": {
      "text/plain": [
       "(37656, 7)"
      ]
     },
     "execution_count": 61,
     "metadata": {},
     "output_type": "execute_result"
    }
   ],
   "source": [
    "test_preprocessed.shape"
   ]
  },
  {
   "cell_type": "code",
   "execution_count": 62,
   "metadata": {
    "ExecuteTime": {
     "end_time": "2021-10-24T11:24:20.148046Z",
     "start_time": "2021-10-24T11:24:20.112986Z"
    }
   },
   "outputs": [],
   "source": [
    "train_X = train_preprocessed.drop(columns=[\"Sales\"])\n",
    "train_y = train_preprocessed['Sales']\n",
    "test_X = test_preprocessed.drop(columns=[\"Sales\"])"
   ]
  },
  {
   "cell_type": "code",
   "execution_count": 63,
   "metadata": {
    "ExecuteTime": {
     "end_time": "2021-10-24T11:24:20.178283Z",
     "start_time": "2021-10-24T11:24:20.150194Z"
    }
   },
   "outputs": [
    {
     "name": "stdout",
     "output_type": "stream",
     "text": [
      "(87864, 6)\n",
      "(87864,)\n",
      "(37656, 6)\n"
     ]
    }
   ],
   "source": [
    "print(train_X.shape)\n",
    "print(train_y.shape)\n",
    "print(test_X.shape)"
   ]
  },
  {
   "cell_type": "markdown",
   "metadata": {},
   "source": [
    "# validating the trainable model"
   ]
  },
  {
   "cell_type": "code",
   "execution_count": 64,
   "metadata": {
    "ExecuteTime": {
     "end_time": "2021-10-24T11:24:20.193243Z",
     "start_time": "2021-10-24T11:24:20.183270Z"
    }
   },
   "outputs": [],
   "source": [
    "X = train_X\n",
    "y = train_y"
   ]
  },
  {
   "cell_type": "code",
   "execution_count": 65,
   "metadata": {
    "ExecuteTime": {
     "end_time": "2021-10-24T11:24:20.240118Z",
     "start_time": "2021-10-24T11:24:20.197233Z"
    }
   },
   "outputs": [],
   "source": [
    "X_train, X_valid, y_train, y_valid = train_test_split(X, y, test_size = 0.3, random_state = 42)"
   ]
  },
  {
   "cell_type": "code",
   "execution_count": 66,
   "metadata": {
    "ExecuteTime": {
     "end_time": "2021-10-24T11:24:20.256076Z",
     "start_time": "2021-10-24T11:24:20.243110Z"
    },
    "scrolled": false
   },
   "outputs": [
    {
     "name": "stdout",
     "output_type": "stream",
     "text": [
      "(61504, 6)\n",
      "(61504,)\n",
      "(26360, 6)\n",
      "(26360,)\n"
     ]
    }
   ],
   "source": [
    "print(X_train.shape)\n",
    "print(y_train.shape)\n",
    "print(X_valid.shape)\n",
    "print(y_valid.shape)"
   ]
  },
  {
   "cell_type": "code",
   "execution_count": 67,
   "metadata": {
    "ExecuteTime": {
     "end_time": "2021-10-24T11:24:20.271036Z",
     "start_time": "2021-10-24T11:24:20.258070Z"
    }
   },
   "outputs": [],
   "source": [
    "gbr = GradientBoostingRegressor(random_state=0)\n",
    "xgb = xgboost.XGBRegressor(n_jobs=-1)\n",
    "rf = RandomForestRegressor(n_jobs=-1)\n",
    "ds = DecisionTreeRegressor()"
   ]
  },
  {
   "cell_type": "code",
   "execution_count": 68,
   "metadata": {
    "ExecuteTime": {
     "end_time": "2021-10-24T11:24:20.286993Z",
     "start_time": "2021-10-24T11:24:20.274027Z"
    }
   },
   "outputs": [],
   "source": [
    "reg = {\n",
    "\"LinearRegression\": LinearRegression(),\n",
    "\"Ridge\": Ridge(alpha=1.0),\n",
    "\"ElasticNet\":ElasticNet(random_state=0),\n",
    "\"KNeighborsRegressor\":KNeighborsRegressor(n_neighbors=2),\n",
    "\"AdaBoostRegressor\":AdaBoostRegressor(random_state=0, n_estimators=100),\n",
    "\"DecisionTreeRegressor\": DecisionTreeRegressor(),\n",
    "\"ExtraTreesRegressor\": ExtraTreesRegressor(n_jobs=-1),\n",
    "\"RandomForestRegressor\": RandomForestRegressor(n_jobs=-1),\n",
    "\"GradientBoostingRegressor\":GradientBoostingRegressor(),\n",
    "\"XGBRegressor\":xgboost.XGBRegressor( n_jobs=-1)\n",
    "}"
   ]
  },
  {
   "cell_type": "markdown",
   "metadata": {
    "ExecuteTime": {
     "end_time": "2021-10-24T07:00:18.181754Z",
     "start_time": "2021-10-24T07:00:18.169727Z"
    }
   },
   "source": [
    "# with validation score creating sample submission file for each model"
   ]
  },
  {
   "cell_type": "code",
   "execution_count": 69,
   "metadata": {
    "ExecuteTime": {
     "end_time": "2021-10-24T11:24:55.511176Z",
     "start_time": "2021-10-24T11:24:20.289986Z"
    },
    "scrolled": true
   },
   "outputs": [
    {
     "name": "stdout",
     "output_type": "stream",
     "text": [
      "--------------------------------------------------------------\n",
      "Model: LinearRegression\n",
      "-----Training Data Evaluation-----\n",
      "R2 Value:  0.0017208505347521275\n",
      "RMSE:  1294.6706894455442\n",
      "MAPE: 554.5821252055167\n",
      "--------------------------------------------------------------\n",
      "Model: Ridge\n",
      "-----Training Data Evaluation-----\n",
      "R2 Value:  0.0017208648046913577\n",
      "RMSE:  1294.6706801921844\n",
      "MAPE: 554.5820266151173\n",
      "--------------------------------------------------------------\n",
      "Model: ElasticNet\n",
      "-----Training Data Evaluation-----\n",
      "R2 Value:  0.0014570441730512584\n",
      "RMSE:  1294.8417437058959\n",
      "MAPE: 552.6392814334608\n",
      "--------------------------------------------------------------\n",
      "Model: KNeighborsRegressor\n",
      "-----Training Data Evaluation-----\n",
      "R2 Value:  -0.446543385748289\n",
      "RMSE:  1558.4721568159184\n",
      "MAPE: 462.8550324922892\n",
      "--------------------------------------------------------------\n",
      "Model: AdaBoostRegressor\n",
      "-----Training Data Evaluation-----\n",
      "R2 Value:  -0.18247988446312657\n",
      "RMSE:  1409.0623039603631\n",
      "MAPE: 744.8549651951929\n",
      "--------------------------------------------------------------\n",
      "Model: DecisionTreeRegressor\n",
      "-----Training Data Evaluation-----\n",
      "R2 Value:  -1.0007949994822578\n",
      "RMSE:  1832.882448347575\n",
      "MAPE: 353.35772252892224\n",
      "--------------------------------------------------------------\n",
      "Model: ExtraTreesRegressor\n",
      "-----Training Data Evaluation-----\n",
      "R2 Value:  -0.44609354725352635\n",
      "RMSE:  1558.229815214696\n",
      "MAPE: 455.71691978928044\n",
      "--------------------------------------------------------------\n",
      "Model: RandomForestRegressor\n",
      "-----Training Data Evaluation-----\n",
      "R2 Value:  -0.1341226051669009\n",
      "RMSE:  1379.9498995615616\n",
      "MAPE: 450.6208435916461\n",
      "--------------------------------------------------------------\n",
      "Model: GradientBoostingRegressor\n",
      "-----Training Data Evaluation-----\n",
      "R2 Value:  0.02327887606024237\n",
      "RMSE:  1280.615063593068\n",
      "MAPE: 520.070057042403\n",
      "--------------------------------------------------------------\n",
      "Model: XGBRegressor\n",
      "-----Training Data Evaluation-----\n",
      "R2 Value:  0.0040743665593291345\n",
      "RMSE:  1293.1436485202667\n",
      "MAPE: 523.27211606425\n",
      "Wall time: 35.2 s\n"
     ]
    }
   ],
   "source": [
    "%%time\n",
    "dic =  {\"Model\":[],\"R2_Train\":[],\"RMSE_Train\":[],\"MAPE_Train\":[]}\n",
    "for name, model in reg.items():\n",
    "   \n",
    "  model.fit(X_train, y_train)\n",
    "  y_train_pred = model.predict(X_valid)\n",
    "  r2 = r2_score(y_valid, y_train_pred)\n",
    "  rmse  = np.sqrt(mean_squared_error(y_valid, y_train_pred))\n",
    "  mape = np.mean(np.abs((y_valid - y_train_pred) / y_valid)) * 100\n",
    "  print(\"--------------------------------------------------------------\")\n",
    "  print(\"Model:\", name)\n",
    "  print(\"-----Training Data Evaluation-----\")\n",
    "  print(\"R2 Value: \", r2_score(y_valid, y_train_pred))\n",
    "  print(\"RMSE: \",np.sqrt(mean_squared_error(y_valid, y_train_pred)))\n",
    "  print(\"MAPE:\" , np.mean(np.abs((y_valid - y_train_pred) / y_valid)) * 100)\n",
    "  dic[\"Model\"].append(name)\n",
    "  dic[\"R2_Train\"].append(r2)\n",
    "  dic[\"RMSE_Train\"].append(rmse)\n",
    "  dic[\"MAPE_Train\"].append(mape)\n",
    "  sample[\"Sales\"] = abs(model.predict(test_X))\n",
    "  sample.to_csv(name+\"_SN_RS.csv\", index = False)"
   ]
  },
  {
   "cell_type": "code",
   "execution_count": 70,
   "metadata": {
    "ExecuteTime": {
     "end_time": "2021-10-24T11:24:55.558382Z",
     "start_time": "2021-10-24T11:24:55.511176Z"
    }
   },
   "outputs": [
    {
     "data": {
      "text/html": [
       "<div>\n",
       "<style scoped>\n",
       "    .dataframe tbody tr th:only-of-type {\n",
       "        vertical-align: middle;\n",
       "    }\n",
       "\n",
       "    .dataframe tbody tr th {\n",
       "        vertical-align: top;\n",
       "    }\n",
       "\n",
       "    .dataframe thead th {\n",
       "        text-align: right;\n",
       "    }\n",
       "</style>\n",
       "<table border=\"1\" class=\"dataframe\">\n",
       "  <thead>\n",
       "    <tr style=\"text-align: right;\">\n",
       "      <th></th>\n",
       "      <th>Model</th>\n",
       "      <th>R2_Train</th>\n",
       "      <th>RMSE_Train</th>\n",
       "      <th>MAPE_Train</th>\n",
       "    </tr>\n",
       "  </thead>\n",
       "  <tbody>\n",
       "    <tr>\n",
       "      <th>0</th>\n",
       "      <td>LinearRegression</td>\n",
       "      <td>0.001721</td>\n",
       "      <td>1294.670689</td>\n",
       "      <td>554.582125</td>\n",
       "    </tr>\n",
       "    <tr>\n",
       "      <th>1</th>\n",
       "      <td>Ridge</td>\n",
       "      <td>0.001721</td>\n",
       "      <td>1294.670680</td>\n",
       "      <td>554.582027</td>\n",
       "    </tr>\n",
       "    <tr>\n",
       "      <th>2</th>\n",
       "      <td>ElasticNet</td>\n",
       "      <td>0.001457</td>\n",
       "      <td>1294.841744</td>\n",
       "      <td>552.639281</td>\n",
       "    </tr>\n",
       "    <tr>\n",
       "      <th>3</th>\n",
       "      <td>KNeighborsRegressor</td>\n",
       "      <td>-0.446543</td>\n",
       "      <td>1558.472157</td>\n",
       "      <td>462.855032</td>\n",
       "    </tr>\n",
       "    <tr>\n",
       "      <th>4</th>\n",
       "      <td>AdaBoostRegressor</td>\n",
       "      <td>-0.182480</td>\n",
       "      <td>1409.062304</td>\n",
       "      <td>744.854965</td>\n",
       "    </tr>\n",
       "    <tr>\n",
       "      <th>5</th>\n",
       "      <td>DecisionTreeRegressor</td>\n",
       "      <td>-1.000795</td>\n",
       "      <td>1832.882448</td>\n",
       "      <td>353.357723</td>\n",
       "    </tr>\n",
       "    <tr>\n",
       "      <th>6</th>\n",
       "      <td>ExtraTreesRegressor</td>\n",
       "      <td>-0.446094</td>\n",
       "      <td>1558.229815</td>\n",
       "      <td>455.716920</td>\n",
       "    </tr>\n",
       "    <tr>\n",
       "      <th>7</th>\n",
       "      <td>RandomForestRegressor</td>\n",
       "      <td>-0.134123</td>\n",
       "      <td>1379.949900</td>\n",
       "      <td>450.620844</td>\n",
       "    </tr>\n",
       "    <tr>\n",
       "      <th>8</th>\n",
       "      <td>GradientBoostingRegressor</td>\n",
       "      <td>0.023279</td>\n",
       "      <td>1280.615064</td>\n",
       "      <td>520.070057</td>\n",
       "    </tr>\n",
       "    <tr>\n",
       "      <th>9</th>\n",
       "      <td>XGBRegressor</td>\n",
       "      <td>0.004074</td>\n",
       "      <td>1293.143649</td>\n",
       "      <td>523.272116</td>\n",
       "    </tr>\n",
       "  </tbody>\n",
       "</table>\n",
       "</div>"
      ],
      "text/plain": [
       "                       Model  R2_Train   RMSE_Train  MAPE_Train\n",
       "0           LinearRegression  0.001721  1294.670689  554.582125\n",
       "1                      Ridge  0.001721  1294.670680  554.582027\n",
       "2                 ElasticNet  0.001457  1294.841744  552.639281\n",
       "3        KNeighborsRegressor -0.446543  1558.472157  462.855032\n",
       "4          AdaBoostRegressor -0.182480  1409.062304  744.854965\n",
       "5      DecisionTreeRegressor -1.000795  1832.882448  353.357723\n",
       "6        ExtraTreesRegressor -0.446094  1558.229815  455.716920\n",
       "7      RandomForestRegressor -0.134123  1379.949900  450.620844\n",
       "8  GradientBoostingRegressor  0.023279  1280.615064  520.070057\n",
       "9               XGBRegressor  0.004074  1293.143649  523.272116"
      ]
     },
     "execution_count": 70,
     "metadata": {},
     "output_type": "execute_result"
    }
   ],
   "source": [
    "score_data = pd.DataFrame(dic)\n",
    "score_data"
   ]
  },
  {
   "cell_type": "code",
   "execution_count": 71,
   "metadata": {
    "ExecuteTime": {
     "end_time": "2021-10-24T11:24:55.586115Z",
     "start_time": "2021-10-24T11:24:55.561373Z"
    },
    "scrolled": true
   },
   "outputs": [
    {
     "data": {
      "text/html": [
       "<div>\n",
       "<style scoped>\n",
       "    .dataframe tbody tr th:only-of-type {\n",
       "        vertical-align: middle;\n",
       "    }\n",
       "\n",
       "    .dataframe tbody tr th {\n",
       "        vertical-align: top;\n",
       "    }\n",
       "\n",
       "    .dataframe thead th {\n",
       "        text-align: right;\n",
       "    }\n",
       "</style>\n",
       "<table border=\"1\" class=\"dataframe\">\n",
       "  <thead>\n",
       "    <tr style=\"text-align: right;\">\n",
       "      <th></th>\n",
       "      <th>Model</th>\n",
       "      <th>R2_Train</th>\n",
       "      <th>RMSE_Train</th>\n",
       "      <th>MAPE_Train</th>\n",
       "    </tr>\n",
       "  </thead>\n",
       "  <tbody>\n",
       "    <tr>\n",
       "      <th>8</th>\n",
       "      <td>GradientBoostingRegressor</td>\n",
       "      <td>0.023279</td>\n",
       "      <td>1280.615064</td>\n",
       "      <td>520.070057</td>\n",
       "    </tr>\n",
       "    <tr>\n",
       "      <th>9</th>\n",
       "      <td>XGBRegressor</td>\n",
       "      <td>0.004074</td>\n",
       "      <td>1293.143649</td>\n",
       "      <td>523.272116</td>\n",
       "    </tr>\n",
       "    <tr>\n",
       "      <th>1</th>\n",
       "      <td>Ridge</td>\n",
       "      <td>0.001721</td>\n",
       "      <td>1294.670680</td>\n",
       "      <td>554.582027</td>\n",
       "    </tr>\n",
       "    <tr>\n",
       "      <th>0</th>\n",
       "      <td>LinearRegression</td>\n",
       "      <td>0.001721</td>\n",
       "      <td>1294.670689</td>\n",
       "      <td>554.582125</td>\n",
       "    </tr>\n",
       "    <tr>\n",
       "      <th>2</th>\n",
       "      <td>ElasticNet</td>\n",
       "      <td>0.001457</td>\n",
       "      <td>1294.841744</td>\n",
       "      <td>552.639281</td>\n",
       "    </tr>\n",
       "    <tr>\n",
       "      <th>7</th>\n",
       "      <td>RandomForestRegressor</td>\n",
       "      <td>-0.134123</td>\n",
       "      <td>1379.949900</td>\n",
       "      <td>450.620844</td>\n",
       "    </tr>\n",
       "    <tr>\n",
       "      <th>4</th>\n",
       "      <td>AdaBoostRegressor</td>\n",
       "      <td>-0.182480</td>\n",
       "      <td>1409.062304</td>\n",
       "      <td>744.854965</td>\n",
       "    </tr>\n",
       "    <tr>\n",
       "      <th>6</th>\n",
       "      <td>ExtraTreesRegressor</td>\n",
       "      <td>-0.446094</td>\n",
       "      <td>1558.229815</td>\n",
       "      <td>455.716920</td>\n",
       "    </tr>\n",
       "    <tr>\n",
       "      <th>3</th>\n",
       "      <td>KNeighborsRegressor</td>\n",
       "      <td>-0.446543</td>\n",
       "      <td>1558.472157</td>\n",
       "      <td>462.855032</td>\n",
       "    </tr>\n",
       "    <tr>\n",
       "      <th>5</th>\n",
       "      <td>DecisionTreeRegressor</td>\n",
       "      <td>-1.000795</td>\n",
       "      <td>1832.882448</td>\n",
       "      <td>353.357723</td>\n",
       "    </tr>\n",
       "  </tbody>\n",
       "</table>\n",
       "</div>"
      ],
      "text/plain": [
       "                       Model  R2_Train   RMSE_Train  MAPE_Train\n",
       "8  GradientBoostingRegressor  0.023279  1280.615064  520.070057\n",
       "9               XGBRegressor  0.004074  1293.143649  523.272116\n",
       "1                      Ridge  0.001721  1294.670680  554.582027\n",
       "0           LinearRegression  0.001721  1294.670689  554.582125\n",
       "2                 ElasticNet  0.001457  1294.841744  552.639281\n",
       "7      RandomForestRegressor -0.134123  1379.949900  450.620844\n",
       "4          AdaBoostRegressor -0.182480  1409.062304  744.854965\n",
       "6        ExtraTreesRegressor -0.446094  1558.229815  455.716920\n",
       "3        KNeighborsRegressor -0.446543  1558.472157  462.855032\n",
       "5      DecisionTreeRegressor -1.000795  1832.882448  353.357723"
      ]
     },
     "execution_count": 71,
     "metadata": {},
     "output_type": "execute_result"
    }
   ],
   "source": [
    "score_data.sort_values(\"RMSE_Train\", axis = 0, ascending = True)"
   ]
  },
  {
   "cell_type": "code",
   "execution_count": 72,
   "metadata": {
    "ExecuteTime": {
     "end_time": "2021-10-24T11:24:55.596471Z",
     "start_time": "2021-10-24T11:24:55.588110Z"
    }
   },
   "outputs": [],
   "source": [
    "poly = PolynomialFeatures(degree=2)"
   ]
  },
  {
   "cell_type": "code",
   "execution_count": 73,
   "metadata": {
    "ExecuteTime": {
     "end_time": "2021-10-24T11:24:55.674045Z",
     "start_time": "2021-10-24T11:24:55.596471Z"
    }
   },
   "outputs": [],
   "source": [
    "new_X_train=poly.fit_transform(X_train)\n",
    "new_X_valid=poly.fit_transform(X_valid)\n",
    "new_test_X=poly.fit_transform(test_X)"
   ]
  },
  {
   "cell_type": "code",
   "execution_count": 74,
   "metadata": {
    "ExecuteTime": {
     "end_time": "2021-10-24T11:24:55.689242Z",
     "start_time": "2021-10-24T11:24:55.674045Z"
    }
   },
   "outputs": [
    {
     "name": "stdout",
     "output_type": "stream",
     "text": [
      "(61504, 28)\n",
      "(26360, 28)\n",
      "(37656, 28)\n"
     ]
    }
   ],
   "source": [
    "print(new_X_train.shape)\n",
    "print(new_X_valid.shape)\n",
    "print(new_test_X.shape)"
   ]
  },
  {
   "cell_type": "code",
   "execution_count": 75,
   "metadata": {
    "ExecuteTime": {
     "end_time": "2021-10-24T11:27:58.515945Z",
     "start_time": "2021-10-24T11:24:55.689242Z"
    },
    "scrolled": true
   },
   "outputs": [
    {
     "name": "stdout",
     "output_type": "stream",
     "text": [
      "--------------------------------------------------------------\n",
      "Model_poly: LinearRegression\n",
      "-----Training Data Evaluation with polynomial features-----\n",
      "R2 Value_poly:  0.00957966654862119\n",
      "RMSE_poly:  1289.5645613364213\n",
      "MAPE_poly: 532.8682198812455\n",
      "--------------------------------------------------------------\n",
      "Model_poly: Ridge\n",
      "-----Training Data Evaluation with polynomial features-----\n",
      "R2 Value_poly:  0.009580207243094163\n",
      "RMSE_poly:  1289.5642093340932\n",
      "MAPE_poly: 532.8682667364264\n",
      "--------------------------------------------------------------\n",
      "Model_poly: ElasticNet\n",
      "-----Training Data Evaluation with polynomial features-----\n",
      "R2 Value_poly:  0.008440296627639787\n",
      "RMSE_poly:  1290.3060993991412\n",
      "MAPE_poly: 539.2540521158014\n",
      "--------------------------------------------------------------\n",
      "Model_poly: KNeighborsRegressor\n",
      "-----Training Data Evaluation with polynomial features-----\n",
      "R2 Value_poly:  -0.4678440877995875\n",
      "RMSE_poly:  1569.9046641793207\n",
      "MAPE_poly: 466.2880907937779\n",
      "--------------------------------------------------------------\n",
      "Model_poly: AdaBoostRegressor\n",
      "-----Training Data Evaluation with polynomial features-----\n",
      "R2 Value_poly:  -0.5225030115012681\n",
      "RMSE_poly:  1598.8672099157213\n",
      "MAPE_poly: 793.8035722490795\n",
      "--------------------------------------------------------------\n",
      "Model_poly: DecisionTreeRegressor\n",
      "-----Training Data Evaluation with polynomial features-----\n",
      "R2 Value_poly:  -1.0142792387993205\n",
      "RMSE_poly:  1839.048378377615\n",
      "MAPE_poly: 403.2402666120234\n",
      "--------------------------------------------------------------\n",
      "Model_poly: ExtraTreesRegressor\n",
      "-----Training Data Evaluation with polynomial features-----\n",
      "R2 Value_poly:  -0.4079592449225533\n",
      "RMSE_poly:  1537.546849375824\n",
      "MAPE_poly: 447.75869656645335\n",
      "--------------------------------------------------------------\n",
      "Model_poly: RandomForestRegressor\n",
      "-----Training Data Evaluation with polynomial features-----\n",
      "R2 Value_poly:  -0.1597546083278789\n",
      "RMSE_poly:  1395.456712961101\n",
      "MAPE_poly: 473.90165906014107\n",
      "--------------------------------------------------------------\n",
      "Model_poly: GradientBoostingRegressor\n",
      "-----Training Data Evaluation with polynomial features-----\n",
      "R2 Value_poly:  0.02059103151473518\n",
      "RMSE_poly:  1282.3759190216351\n",
      "MAPE_poly: 526.3676491913443\n",
      "--------------------------------------------------------------\n",
      "Model_poly: XGBRegressor\n",
      "-----Training Data Evaluation with polynomial features-----\n",
      "R2 Value_poly:  -0.003499126200515068\n",
      "RMSE_poly:  1298.0511764337946\n",
      "MAPE_poly: 548.7896880406228\n",
      "Wall time: 3min 2s\n"
     ]
    }
   ],
   "source": [
    "%%time\n",
    "dic_poly =  {\"Model_poly\":[],\"R2_Train_poly\":[],\"RMSE_Train_poly\":[],\"MAPE_Train_poly\":[]}\n",
    "for name, model in reg.items():\n",
    "   \n",
    "  model.fit(new_X_train, y_train)\n",
    "  y_train_pred_poly = model.predict(new_X_valid)\n",
    "  r2_poly = r2_score(y_valid, y_train_pred_poly)\n",
    "  rmse_poly  = np.sqrt(mean_squared_error(y_valid, y_train_pred_poly))\n",
    "  mape_poly = np.mean(np.abs((y_valid - y_train_pred_poly) / y_valid)) * 100\n",
    "  print(\"--------------------------------------------------------------\")\n",
    "  print(\"Model_poly:\", name)\n",
    "  print(\"-----Training Data Evaluation with polynomial features-----\")\n",
    "  print(\"R2 Value_poly: \", r2_score(y_valid, y_train_pred_poly))\n",
    "  print(\"RMSE_poly: \",np.sqrt(mean_squared_error(y_valid, y_train_pred_poly)))\n",
    "  print(\"MAPE_poly:\" , np.mean(np.abs((y_valid - y_train_pred_poly) / y_valid)) * 100)\n",
    "  dic_poly[\"Model_poly\"].append(name)\n",
    "  dic_poly[\"R2_Train_poly\"].append(r2_poly)\n",
    "  dic_poly[\"RMSE_Train_poly\"].append(rmse_poly)\n",
    "  dic_poly[\"MAPE_Train_poly\"].append(mape_poly)\n",
    "  sample[\"Sales\"] = abs(model.predict(new_test_X))\n",
    "  sample.to_csv( name+\"_poly_SN_RS.csv\", index = False)"
   ]
  },
  {
   "cell_type": "code",
   "execution_count": 76,
   "metadata": {
    "ExecuteTime": {
     "end_time": "2021-10-24T11:27:58.534504Z",
     "start_time": "2021-10-24T11:27:58.516373Z"
    }
   },
   "outputs": [
    {
     "data": {
      "text/html": [
       "<div>\n",
       "<style scoped>\n",
       "    .dataframe tbody tr th:only-of-type {\n",
       "        vertical-align: middle;\n",
       "    }\n",
       "\n",
       "    .dataframe tbody tr th {\n",
       "        vertical-align: top;\n",
       "    }\n",
       "\n",
       "    .dataframe thead th {\n",
       "        text-align: right;\n",
       "    }\n",
       "</style>\n",
       "<table border=\"1\" class=\"dataframe\">\n",
       "  <thead>\n",
       "    <tr style=\"text-align: right;\">\n",
       "      <th></th>\n",
       "      <th>Model_poly</th>\n",
       "      <th>R2_Train_poly</th>\n",
       "      <th>RMSE_Train_poly</th>\n",
       "      <th>MAPE_Train_poly</th>\n",
       "    </tr>\n",
       "  </thead>\n",
       "  <tbody>\n",
       "    <tr>\n",
       "      <th>0</th>\n",
       "      <td>LinearRegression</td>\n",
       "      <td>0.009580</td>\n",
       "      <td>1289.564561</td>\n",
       "      <td>532.868220</td>\n",
       "    </tr>\n",
       "    <tr>\n",
       "      <th>1</th>\n",
       "      <td>Ridge</td>\n",
       "      <td>0.009580</td>\n",
       "      <td>1289.564209</td>\n",
       "      <td>532.868267</td>\n",
       "    </tr>\n",
       "    <tr>\n",
       "      <th>2</th>\n",
       "      <td>ElasticNet</td>\n",
       "      <td>0.008440</td>\n",
       "      <td>1290.306099</td>\n",
       "      <td>539.254052</td>\n",
       "    </tr>\n",
       "    <tr>\n",
       "      <th>3</th>\n",
       "      <td>KNeighborsRegressor</td>\n",
       "      <td>-0.467844</td>\n",
       "      <td>1569.904664</td>\n",
       "      <td>466.288091</td>\n",
       "    </tr>\n",
       "    <tr>\n",
       "      <th>4</th>\n",
       "      <td>AdaBoostRegressor</td>\n",
       "      <td>-0.522503</td>\n",
       "      <td>1598.867210</td>\n",
       "      <td>793.803572</td>\n",
       "    </tr>\n",
       "    <tr>\n",
       "      <th>5</th>\n",
       "      <td>DecisionTreeRegressor</td>\n",
       "      <td>-1.014279</td>\n",
       "      <td>1839.048378</td>\n",
       "      <td>403.240267</td>\n",
       "    </tr>\n",
       "    <tr>\n",
       "      <th>6</th>\n",
       "      <td>ExtraTreesRegressor</td>\n",
       "      <td>-0.407959</td>\n",
       "      <td>1537.546849</td>\n",
       "      <td>447.758697</td>\n",
       "    </tr>\n",
       "    <tr>\n",
       "      <th>7</th>\n",
       "      <td>RandomForestRegressor</td>\n",
       "      <td>-0.159755</td>\n",
       "      <td>1395.456713</td>\n",
       "      <td>473.901659</td>\n",
       "    </tr>\n",
       "    <tr>\n",
       "      <th>8</th>\n",
       "      <td>GradientBoostingRegressor</td>\n",
       "      <td>0.020591</td>\n",
       "      <td>1282.375919</td>\n",
       "      <td>526.367649</td>\n",
       "    </tr>\n",
       "    <tr>\n",
       "      <th>9</th>\n",
       "      <td>XGBRegressor</td>\n",
       "      <td>-0.003499</td>\n",
       "      <td>1298.051176</td>\n",
       "      <td>548.789688</td>\n",
       "    </tr>\n",
       "  </tbody>\n",
       "</table>\n",
       "</div>"
      ],
      "text/plain": [
       "                  Model_poly  R2_Train_poly  RMSE_Train_poly  MAPE_Train_poly\n",
       "0           LinearRegression       0.009580      1289.564561       532.868220\n",
       "1                      Ridge       0.009580      1289.564209       532.868267\n",
       "2                 ElasticNet       0.008440      1290.306099       539.254052\n",
       "3        KNeighborsRegressor      -0.467844      1569.904664       466.288091\n",
       "4          AdaBoostRegressor      -0.522503      1598.867210       793.803572\n",
       "5      DecisionTreeRegressor      -1.014279      1839.048378       403.240267\n",
       "6        ExtraTreesRegressor      -0.407959      1537.546849       447.758697\n",
       "7      RandomForestRegressor      -0.159755      1395.456713       473.901659\n",
       "8  GradientBoostingRegressor       0.020591      1282.375919       526.367649\n",
       "9               XGBRegressor      -0.003499      1298.051176       548.789688"
      ]
     },
     "execution_count": 76,
     "metadata": {},
     "output_type": "execute_result"
    }
   ],
   "source": [
    "score_poly_data = pd.DataFrame(dic_poly)\n",
    "score_poly_data"
   ]
  },
  {
   "cell_type": "code",
   "execution_count": 77,
   "metadata": {
    "ExecuteTime": {
     "end_time": "2021-10-24T11:27:58.565747Z",
     "start_time": "2021-10-24T11:27:58.534504Z"
    }
   },
   "outputs": [
    {
     "data": {
      "text/html": [
       "<div>\n",
       "<style scoped>\n",
       "    .dataframe tbody tr th:only-of-type {\n",
       "        vertical-align: middle;\n",
       "    }\n",
       "\n",
       "    .dataframe tbody tr th {\n",
       "        vertical-align: top;\n",
       "    }\n",
       "\n",
       "    .dataframe thead th {\n",
       "        text-align: right;\n",
       "    }\n",
       "</style>\n",
       "<table border=\"1\" class=\"dataframe\">\n",
       "  <thead>\n",
       "    <tr style=\"text-align: right;\">\n",
       "      <th></th>\n",
       "      <th>Model_poly</th>\n",
       "      <th>R2_Train_poly</th>\n",
       "      <th>RMSE_Train_poly</th>\n",
       "      <th>MAPE_Train_poly</th>\n",
       "    </tr>\n",
       "  </thead>\n",
       "  <tbody>\n",
       "    <tr>\n",
       "      <th>8</th>\n",
       "      <td>GradientBoostingRegressor</td>\n",
       "      <td>0.020591</td>\n",
       "      <td>1282.375919</td>\n",
       "      <td>526.367649</td>\n",
       "    </tr>\n",
       "    <tr>\n",
       "      <th>1</th>\n",
       "      <td>Ridge</td>\n",
       "      <td>0.009580</td>\n",
       "      <td>1289.564209</td>\n",
       "      <td>532.868267</td>\n",
       "    </tr>\n",
       "    <tr>\n",
       "      <th>0</th>\n",
       "      <td>LinearRegression</td>\n",
       "      <td>0.009580</td>\n",
       "      <td>1289.564561</td>\n",
       "      <td>532.868220</td>\n",
       "    </tr>\n",
       "    <tr>\n",
       "      <th>2</th>\n",
       "      <td>ElasticNet</td>\n",
       "      <td>0.008440</td>\n",
       "      <td>1290.306099</td>\n",
       "      <td>539.254052</td>\n",
       "    </tr>\n",
       "    <tr>\n",
       "      <th>9</th>\n",
       "      <td>XGBRegressor</td>\n",
       "      <td>-0.003499</td>\n",
       "      <td>1298.051176</td>\n",
       "      <td>548.789688</td>\n",
       "    </tr>\n",
       "    <tr>\n",
       "      <th>7</th>\n",
       "      <td>RandomForestRegressor</td>\n",
       "      <td>-0.159755</td>\n",
       "      <td>1395.456713</td>\n",
       "      <td>473.901659</td>\n",
       "    </tr>\n",
       "    <tr>\n",
       "      <th>6</th>\n",
       "      <td>ExtraTreesRegressor</td>\n",
       "      <td>-0.407959</td>\n",
       "      <td>1537.546849</td>\n",
       "      <td>447.758697</td>\n",
       "    </tr>\n",
       "    <tr>\n",
       "      <th>3</th>\n",
       "      <td>KNeighborsRegressor</td>\n",
       "      <td>-0.467844</td>\n",
       "      <td>1569.904664</td>\n",
       "      <td>466.288091</td>\n",
       "    </tr>\n",
       "    <tr>\n",
       "      <th>4</th>\n",
       "      <td>AdaBoostRegressor</td>\n",
       "      <td>-0.522503</td>\n",
       "      <td>1598.867210</td>\n",
       "      <td>793.803572</td>\n",
       "    </tr>\n",
       "    <tr>\n",
       "      <th>5</th>\n",
       "      <td>DecisionTreeRegressor</td>\n",
       "      <td>-1.014279</td>\n",
       "      <td>1839.048378</td>\n",
       "      <td>403.240267</td>\n",
       "    </tr>\n",
       "  </tbody>\n",
       "</table>\n",
       "</div>"
      ],
      "text/plain": [
       "                  Model_poly  R2_Train_poly  RMSE_Train_poly  MAPE_Train_poly\n",
       "8  GradientBoostingRegressor       0.020591      1282.375919       526.367649\n",
       "1                      Ridge       0.009580      1289.564209       532.868267\n",
       "0           LinearRegression       0.009580      1289.564561       532.868220\n",
       "2                 ElasticNet       0.008440      1290.306099       539.254052\n",
       "9               XGBRegressor      -0.003499      1298.051176       548.789688\n",
       "7      RandomForestRegressor      -0.159755      1395.456713       473.901659\n",
       "6        ExtraTreesRegressor      -0.407959      1537.546849       447.758697\n",
       "3        KNeighborsRegressor      -0.467844      1569.904664       466.288091\n",
       "4          AdaBoostRegressor      -0.522503      1598.867210       793.803572\n",
       "5      DecisionTreeRegressor      -1.014279      1839.048378       403.240267"
      ]
     },
     "execution_count": 77,
     "metadata": {},
     "output_type": "execute_result"
    }
   ],
   "source": [
    "score_poly_data.sort_values(\"RMSE_Train_poly\", axis = 0, ascending = True)"
   ]
  },
  {
   "cell_type": "code",
   "execution_count": 78,
   "metadata": {
    "ExecuteTime": {
     "end_time": "2021-10-24T11:27:58.581367Z",
     "start_time": "2021-10-24T11:27:58.565747Z"
    }
   },
   "outputs": [
    {
     "data": {
      "text/html": [
       "<div>\n",
       "<style scoped>\n",
       "    .dataframe tbody tr th:only-of-type {\n",
       "        vertical-align: middle;\n",
       "    }\n",
       "\n",
       "    .dataframe tbody tr th {\n",
       "        vertical-align: top;\n",
       "    }\n",
       "\n",
       "    .dataframe thead th {\n",
       "        text-align: right;\n",
       "    }\n",
       "</style>\n",
       "<table border=\"1\" class=\"dataframe\">\n",
       "  <thead>\n",
       "    <tr style=\"text-align: right;\">\n",
       "      <th></th>\n",
       "      <th>Model</th>\n",
       "      <th>R2_Train</th>\n",
       "      <th>RMSE_Train</th>\n",
       "      <th>MAPE_Train</th>\n",
       "    </tr>\n",
       "  </thead>\n",
       "  <tbody>\n",
       "    <tr>\n",
       "      <th>8</th>\n",
       "      <td>GradientBoostingRegressor</td>\n",
       "      <td>0.023279</td>\n",
       "      <td>1280.615064</td>\n",
       "      <td>520.070057</td>\n",
       "    </tr>\n",
       "    <tr>\n",
       "      <th>9</th>\n",
       "      <td>XGBRegressor</td>\n",
       "      <td>0.004074</td>\n",
       "      <td>1293.143649</td>\n",
       "      <td>523.272116</td>\n",
       "    </tr>\n",
       "    <tr>\n",
       "      <th>1</th>\n",
       "      <td>Ridge</td>\n",
       "      <td>0.001721</td>\n",
       "      <td>1294.670680</td>\n",
       "      <td>554.582027</td>\n",
       "    </tr>\n",
       "    <tr>\n",
       "      <th>0</th>\n",
       "      <td>LinearRegression</td>\n",
       "      <td>0.001721</td>\n",
       "      <td>1294.670689</td>\n",
       "      <td>554.582125</td>\n",
       "    </tr>\n",
       "    <tr>\n",
       "      <th>2</th>\n",
       "      <td>ElasticNet</td>\n",
       "      <td>0.001457</td>\n",
       "      <td>1294.841744</td>\n",
       "      <td>552.639281</td>\n",
       "    </tr>\n",
       "    <tr>\n",
       "      <th>7</th>\n",
       "      <td>RandomForestRegressor</td>\n",
       "      <td>-0.134123</td>\n",
       "      <td>1379.949900</td>\n",
       "      <td>450.620844</td>\n",
       "    </tr>\n",
       "    <tr>\n",
       "      <th>4</th>\n",
       "      <td>AdaBoostRegressor</td>\n",
       "      <td>-0.182480</td>\n",
       "      <td>1409.062304</td>\n",
       "      <td>744.854965</td>\n",
       "    </tr>\n",
       "    <tr>\n",
       "      <th>6</th>\n",
       "      <td>ExtraTreesRegressor</td>\n",
       "      <td>-0.446094</td>\n",
       "      <td>1558.229815</td>\n",
       "      <td>455.716920</td>\n",
       "    </tr>\n",
       "    <tr>\n",
       "      <th>3</th>\n",
       "      <td>KNeighborsRegressor</td>\n",
       "      <td>-0.446543</td>\n",
       "      <td>1558.472157</td>\n",
       "      <td>462.855032</td>\n",
       "    </tr>\n",
       "    <tr>\n",
       "      <th>5</th>\n",
       "      <td>DecisionTreeRegressor</td>\n",
       "      <td>-1.000795</td>\n",
       "      <td>1832.882448</td>\n",
       "      <td>353.357723</td>\n",
       "    </tr>\n",
       "  </tbody>\n",
       "</table>\n",
       "</div>"
      ],
      "text/plain": [
       "                       Model  R2_Train   RMSE_Train  MAPE_Train\n",
       "8  GradientBoostingRegressor  0.023279  1280.615064  520.070057\n",
       "9               XGBRegressor  0.004074  1293.143649  523.272116\n",
       "1                      Ridge  0.001721  1294.670680  554.582027\n",
       "0           LinearRegression  0.001721  1294.670689  554.582125\n",
       "2                 ElasticNet  0.001457  1294.841744  552.639281\n",
       "7      RandomForestRegressor -0.134123  1379.949900  450.620844\n",
       "4          AdaBoostRegressor -0.182480  1409.062304  744.854965\n",
       "6        ExtraTreesRegressor -0.446094  1558.229815  455.716920\n",
       "3        KNeighborsRegressor -0.446543  1558.472157  462.855032\n",
       "5      DecisionTreeRegressor -1.000795  1832.882448  353.357723"
      ]
     },
     "execution_count": 78,
     "metadata": {},
     "output_type": "execute_result"
    }
   ],
   "source": [
    "score_data.sort_values(\"RMSE_Train\", axis = 0, ascending = True)"
   ]
  },
  {
   "cell_type": "markdown",
   "metadata": {},
   "source": [
    "### By using polynomial features it seems that the RMSE value is increasing, so we use the dataset without using polynmial features"
   ]
  },
  {
   "cell_type": "markdown",
   "metadata": {},
   "source": [
    "### Another insight we can observe that the ensembles of decision tree model like Gradient boosting regressor and XGB regressor were performing well on the dataset. \n",
    "\n",
    "### so by much tuning the model parameters we may achieve good RMSE score."
   ]
  },
  {
   "cell_type": "markdown",
   "metadata": {
    "ExecuteTime": {
     "end_time": "2021-10-24T11:06:05.599010Z",
     "start_time": "2021-10-24T11:06:05.580062Z"
    }
   },
   "source": [
    "### adjusting the params"
   ]
  },
  {
   "cell_type": "code",
   "execution_count": 79,
   "metadata": {
    "ExecuteTime": {
     "end_time": "2021-10-24T11:28:03.836208Z",
     "start_time": "2021-10-24T11:27:58.581367Z"
    }
   },
   "outputs": [
    {
     "name": "stdout",
     "output_type": "stream",
     "text": [
      "R2 Value:  0.02327887606024237\n",
      "RMSE:  1280.615063593068\n",
      "MAPE: 520.070057042403\n"
     ]
    }
   ],
   "source": [
    "# create regressor object \n",
    "gbr = GradientBoostingRegressor(max_depth = 3,min_samples_split=3, learning_rate= 0.1)\n",
    "# fit the regressor with x and y data \n",
    "gbr.fit(X_train, y_train)\n",
    "pred_gbr = gbr.predict(X_valid)\n",
    "print(\"R2 Value: \", r2_score(y_valid, pred_gbr))\n",
    "print(\"RMSE: \",np.sqrt(mean_squared_error(y_valid, pred_gbr)))\n",
    "print(\"MAPE:\" , np.mean(np.abs((y_valid - pred_gbr) / y_valid)) * 100)"
   ]
  },
  {
   "cell_type": "markdown",
   "metadata": {},
   "source": [
    "### there is no much variation. so moved to next model to check whether it performs well"
   ]
  },
  {
   "cell_type": "code",
   "execution_count": 80,
   "metadata": {
    "ExecuteTime": {
     "end_time": "2021-10-24T11:28:05.765107Z",
     "start_time": "2021-10-24T11:28:03.836378Z"
    }
   },
   "outputs": [
    {
     "name": "stdout",
     "output_type": "stream",
     "text": [
      "R2 Value:  0.021604509604150945\n",
      "RMSE:  1281.7122553584006\n",
      "MAPE: 524.6452769588623\n"
     ]
    }
   ],
   "source": [
    "# create regressor object \n",
    "xgr = XGBRegressor(max_depth = 2, learning_rate= 0.1, random_state = 1)\n",
    "# fit the regressor with x and y data \n",
    "xgr.fit(X_train, y_train)\n",
    "pred_xgr = xgr.predict(X_valid)\n",
    "print(\"R2 Value: \", r2_score(y_valid, pred_xgr))\n",
    "print(\"RMSE: \",np.sqrt(mean_squared_error(y_valid, pred_xgr)))\n",
    "print(\"MAPE:\" , np.mean(np.abs((y_valid - pred_xgr) / y_valid)) * 100)"
   ]
  },
  {
   "cell_type": "markdown",
   "metadata": {},
   "source": [
    "### Even after moving to other model the RMSE doesnt differ much. so we can use some advanced model for predicting the data"
   ]
  },
  {
   "cell_type": "markdown",
   "metadata": {},
   "source": [
    "## I used VotingRegressor with base regressors as GradientBoostingRegressor and XGBRegressor as they both gave the best predictions as described in previous cells\n"
   ]
  },
  {
   "cell_type": "code",
   "execution_count": 81,
   "metadata": {
    "ExecuteTime": {
     "end_time": "2021-10-24T11:28:16.079731Z",
     "start_time": "2021-10-24T11:28:05.768099Z"
    },
    "scrolled": true
   },
   "outputs": [
    {
     "name": "stdout",
     "output_type": "stream",
     "text": [
      "R2 Value:  0.02275144643432614\n",
      "RMSE:  1280.9607831379415\n",
      "MAPE: 522.3509173043567\n"
     ]
    }
   ],
   "source": [
    "from sklearn.ensemble import VotingRegressor\n",
    "model = VotingRegressor([('gbr', gbr),('xgb',xgr)],n_jobs=-1)\n",
    "model.fit(X_train,y_train)\n",
    "pred_vr = model.predict(X_valid)\n",
    "print(\"R2 Value: \", r2_score(y_valid, pred_vr))\n",
    "print(\"RMSE: \",np.sqrt(mean_squared_error(y_valid, pred_vr)))\n",
    "print(\"MAPE:\" , np.mean(np.abs((y_valid - pred_vr) / y_valid)) * 100)"
   ]
  },
  {
   "cell_type": "markdown",
   "metadata": {},
   "source": [
    "### Finally, I used the VotingRegressor as my final model and trained it on the entire given training data.\n"
   ]
  },
  {
   "cell_type": "code",
   "execution_count": 82,
   "metadata": {
    "ExecuteTime": {
     "end_time": "2021-10-24T11:28:28.229350Z",
     "start_time": "2021-10-24T11:28:16.097683Z"
    },
    "scrolled": true
   },
   "outputs": [
    {
     "name": "stdout",
     "output_type": "stream",
     "text": [
      "R2 Value:  0.02275144643432614\n",
      "RMSE:  1280.9607831379415\n",
      "MAPE: 522.3509173043567\n"
     ]
    }
   ],
   "source": [
    "model = VotingRegressor([('gbr', gbr),('xgb',xgr)],n_jobs=-1)\n",
    "\n",
    "model.fit(X,y)\n",
    "\n",
    "y_pred = model.predict(X)\n",
    "\n",
    "print(\"R2 Value: \", r2_score(y_valid, pred_vr))\n",
    "print(\"RMSE: \",np.sqrt(mean_squared_error(y_valid, pred_vr)))\n",
    "print(\"MAPE:\" , np.mean(np.abs((y_valid - pred_vr) / y_valid)) * 100)"
   ]
  },
  {
   "cell_type": "markdown",
   "metadata": {},
   "source": [
    "### using the model for predicting the test data"
   ]
  },
  {
   "cell_type": "code",
   "execution_count": 83,
   "metadata": {
    "ExecuteTime": {
     "end_time": "2021-10-24T11:28:28.529211Z",
     "start_time": "2021-10-24T11:28:28.231342Z"
    }
   },
   "outputs": [],
   "source": [
    "sample[\"Sales\"] = abs(model.predict(test_X))\n",
    "sample.to_csv(\"VotingRegressor_SN_RS.csv\", index = False)"
   ]
  },
  {
   "cell_type": "code",
   "execution_count": 88,
   "metadata": {
    "ExecuteTime": {
     "end_time": "2021-10-24T11:39:17.124811Z",
     "start_time": "2021-10-24T11:39:17.110847Z"
    },
    "scrolled": false
   },
   "outputs": [
    {
     "data": {
      "image/png": "[encoded data removed]",
      "text/plain": [
       "<IPython.core.display.Image object>"
      ]
     },
     "execution_count": 88,
     "metadata": {
      "image/png": {
       "height": 1000,
       "width": 1000
      }
     },
     "output_type": "execute_result"
    }
   ],
   "source": [
    "import os\n",
    "from IPython.display import Image\n",
    "Image(filename = \"Retail_Sales_Model_Shivnadar_MachineHack_FinalResult.png\", width=1000, height=1000)"
   ]
  },
  {
   "cell_type": "code",
   "execution_count": null,
   "metadata": {},
   "outputs": [],
   "source": []
  }
 ],
 "metadata": {
  "kernelspec": {
   "display_name": "Python 3 (ipykernel)",
   "language": "python",
   "name": "python3"
  },
  "language_info": {
   "codemirror_mode": {
    "name": "ipython",
    "version": 3
   },
   "file_extension": ".py",
   "mimetype": "text/x-python",
   "name": "python",
   "nbconvert_exporter": "python",
   "pygments_lexer": "ipython3",
   "version": "3.8.12"
  }
 },
 "nbformat": 4,
 "nbformat_minor": 4
}
